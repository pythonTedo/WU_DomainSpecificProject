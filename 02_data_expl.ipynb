{
 "cells": [
  {
   "cell_type": "code",
   "execution_count": 1,
   "metadata": {},
   "outputs": [],
   "source": [
    "import pandas as pd\n",
    "import matplotlib.pyplot as plt\n",
    "import seaborn as sns\n",
    "import numpy as np\n",
    "import ast      \n",
    "from collections import Counter\n",
    "from sklearn.model_selection import train_test_split"
   ]
  },
  {
   "cell_type": "code",
   "execution_count": 2,
   "metadata": {},
   "outputs": [
    {
     "data": {
      "text/html": [
       "<div>\n",
       "<style scoped>\n",
       "    .dataframe tbody tr th:only-of-type {\n",
       "        vertical-align: middle;\n",
       "    }\n",
       "\n",
       "    .dataframe tbody tr th {\n",
       "        vertical-align: top;\n",
       "    }\n",
       "\n",
       "    .dataframe thead th {\n",
       "        text-align: right;\n",
       "    }\n",
       "</style>\n",
       "<table border=\"1\" class=\"dataframe\">\n",
       "  <thead>\n",
       "    <tr style=\"text-align: right;\">\n",
       "      <th></th>\n",
       "      <th>Brand Name</th>\n",
       "      <th>Products</th>\n",
       "      <th>Description</th>\n",
       "      <th>Website</th>\n",
       "    </tr>\n",
       "  </thead>\n",
       "  <tbody>\n",
       "    <tr>\n",
       "      <th>0</th>\n",
       "      <td>0039 Italy</td>\n",
       "      <td>['Womenswear']</td>\n",
       "      <td>When a German label manages to free its blouse...</td>\n",
       "      <td>http://www.0039italy.com</td>\n",
       "    </tr>\n",
       "    <tr>\n",
       "      <th>1</th>\n",
       "      <td>05 Studio</td>\n",
       "      <td>['Swimwear', 'Bodywear']</td>\n",
       "      <td>We do basics that are not boring! 05 Studio ai...</td>\n",
       "      <td>https://www.the05studio.com</td>\n",
       "    </tr>\n",
       "    <tr>\n",
       "      <th>2</th>\n",
       "      <td>0711</td>\n",
       "      <td>['Bags']</td>\n",
       "      <td>Brand 0711 was founded in 2012 by Nino Eliava ...</td>\n",
       "      <td>http://0711tbilisi.com</td>\n",
       "    </tr>\n",
       "    <tr>\n",
       "      <th>3</th>\n",
       "      <td>10Days</td>\n",
       "      <td>['Womenswear', 'Menswear', 'Accessories']</td>\n",
       "      <td>10DAYS is an Amsterdam based lifestyle brand t...</td>\n",
       "      <td>https://www.10dayslifestyle.nl</td>\n",
       "    </tr>\n",
       "    <tr>\n",
       "      <th>4</th>\n",
       "      <td>11 Degrees</td>\n",
       "      <td>['Womenswear', 'Menswear', 'Kidswear', 'Access...</td>\n",
       "      <td>Here at 11 Degrees we use higher quality mater...</td>\n",
       "      <td>https://www.11degrees.eu/</td>\n",
       "    </tr>\n",
       "    <tr>\n",
       "      <th>...</th>\n",
       "      <td>...</td>\n",
       "      <td>...</td>\n",
       "      <td>...</td>\n",
       "      <td>...</td>\n",
       "    </tr>\n",
       "    <tr>\n",
       "      <th>3780</th>\n",
       "      <td>Blue Tomato GmbH</td>\n",
       "      <td>NaN</td>\n",
       "      <td>Blue Tomato is an autrian retailer and e-comme...</td>\n",
       "      <td>NaN</td>\n",
       "    </tr>\n",
       "    <tr>\n",
       "      <th>3781</th>\n",
       "      <td>POLO RALPH LAUREN</td>\n",
       "      <td>['Accessories', 'Bags', 'Eyewear', 'Footwear',...</td>\n",
       "      <td>Ralph Lauren is a US-based designer and retail...</td>\n",
       "      <td>https://www.poloralphlauren.com</td>\n",
       "    </tr>\n",
       "    <tr>\n",
       "      <th>3782</th>\n",
       "      <td>Armani</td>\n",
       "      <td>NaN</td>\n",
       "      <td>The Armani Group is a leading company in the f...</td>\n",
       "      <td>http://www.armani.com/</td>\n",
       "    </tr>\n",
       "    <tr>\n",
       "      <th>3783</th>\n",
       "      <td>CHANEL</td>\n",
       "      <td>NaN</td>\n",
       "      <td>CHANEL is a private company and a world leader...</td>\n",
       "      <td>http://www.chanel.com/</td>\n",
       "    </tr>\n",
       "    <tr>\n",
       "      <th>3784</th>\n",
       "      <td>Prada</td>\n",
       "      <td>['Womenswear', 'Menswear']</td>\n",
       "      <td>The Prada Group is a global leader in luxury, ...</td>\n",
       "      <td>http://www.prada.com</td>\n",
       "    </tr>\n",
       "  </tbody>\n",
       "</table>\n",
       "<p>3785 rows × 4 columns</p>\n",
       "</div>"
      ],
      "text/plain": [
       "             Brand Name                                           Products  \\\n",
       "0            0039 Italy                                     ['Womenswear']   \n",
       "1             05 Studio                           ['Swimwear', 'Bodywear']   \n",
       "2                  0711                                           ['Bags']   \n",
       "3                10Days          ['Womenswear', 'Menswear', 'Accessories']   \n",
       "4            11 Degrees  ['Womenswear', 'Menswear', 'Kidswear', 'Access...   \n",
       "...                 ...                                                ...   \n",
       "3780   Blue Tomato GmbH                                                NaN   \n",
       "3781  POLO RALPH LAUREN  ['Accessories', 'Bags', 'Eyewear', 'Footwear',...   \n",
       "3782             Armani                                                NaN   \n",
       "3783             CHANEL                                                NaN   \n",
       "3784              Prada                         ['Womenswear', 'Menswear']   \n",
       "\n",
       "                                            Description  \\\n",
       "0     When a German label manages to free its blouse...   \n",
       "1     We do basics that are not boring! 05 Studio ai...   \n",
       "2     Brand 0711 was founded in 2012 by Nino Eliava ...   \n",
       "3     10DAYS is an Amsterdam based lifestyle brand t...   \n",
       "4     Here at 11 Degrees we use higher quality mater...   \n",
       "...                                                 ...   \n",
       "3780  Blue Tomato is an autrian retailer and e-comme...   \n",
       "3781  Ralph Lauren is a US-based designer and retail...   \n",
       "3782  The Armani Group is a leading company in the f...   \n",
       "3783  CHANEL is a private company and a world leader...   \n",
       "3784  The Prada Group is a global leader in luxury, ...   \n",
       "\n",
       "                              Website  \n",
       "0            http://www.0039italy.com  \n",
       "1         https://www.the05studio.com  \n",
       "2              http://0711tbilisi.com  \n",
       "3      https://www.10dayslifestyle.nl  \n",
       "4           https://www.11degrees.eu/  \n",
       "...                               ...  \n",
       "3780                              NaN  \n",
       "3781  https://www.poloralphlauren.com  \n",
       "3782           http://www.armani.com/  \n",
       "3783           http://www.chanel.com/  \n",
       "3784             http://www.prada.com  \n",
       "\n",
       "[3785 rows x 4 columns]"
      ]
     },
     "execution_count": 2,
     "metadata": {},
     "output_type": "execute_result"
    }
   ],
   "source": [
    "df = pd.read_csv(\"data/combined_scraped.csv\")\n",
    "df"
   ]
  },
  {
   "cell_type": "code",
   "execution_count": 3,
   "metadata": {},
   "outputs": [
    {
     "data": {
      "text/html": [
       "<div>\n",
       "<style scoped>\n",
       "    .dataframe tbody tr th:only-of-type {\n",
       "        vertical-align: middle;\n",
       "    }\n",
       "\n",
       "    .dataframe tbody tr th {\n",
       "        vertical-align: top;\n",
       "    }\n",
       "\n",
       "    .dataframe thead th {\n",
       "        text-align: right;\n",
       "    }\n",
       "</style>\n",
       "<table border=\"1\" class=\"dataframe\">\n",
       "  <thead>\n",
       "    <tr style=\"text-align: right;\">\n",
       "      <th></th>\n",
       "      <th>Brand</th>\n",
       "      <th>Afghanistan</th>\n",
       "      <th>Albania</th>\n",
       "      <th>Algeria</th>\n",
       "      <th>American Samoa</th>\n",
       "      <th>Andorra</th>\n",
       "      <th>Angola</th>\n",
       "      <th>Anguilla</th>\n",
       "      <th>Antarctica</th>\n",
       "      <th>Antigua &amp; Barbuda</th>\n",
       "      <th>...</th>\n",
       "      <th>Wallis &amp; Futuna</th>\n",
       "      <th>Western Sahara</th>\n",
       "      <th>Yemen</th>\n",
       "      <th>Zambia</th>\n",
       "      <th>Zimbabwe</th>\n",
       "      <th>Åland Islands</th>\n",
       "      <th>2023 Brand Value in $</th>\n",
       "      <th>Products</th>\n",
       "      <th>Description</th>\n",
       "      <th>Website</th>\n",
       "    </tr>\n",
       "  </thead>\n",
       "  <tbody>\n",
       "    <tr>\n",
       "      <th>0</th>\n",
       "      <td>NIKE</td>\n",
       "      <td>0</td>\n",
       "      <td>0</td>\n",
       "      <td>11</td>\n",
       "      <td>0</td>\n",
       "      <td>0</td>\n",
       "      <td>0</td>\n",
       "      <td>0</td>\n",
       "      <td>0</td>\n",
       "      <td>0</td>\n",
       "      <td>...</td>\n",
       "      <td>0</td>\n",
       "      <td>0</td>\n",
       "      <td>0</td>\n",
       "      <td>0</td>\n",
       "      <td>0</td>\n",
       "      <td>0</td>\n",
       "      <td>$42.5B</td>\n",
       "      <td>['Sportswear']</td>\n",
       "      <td>Our mission is what drives us to do everything...</td>\n",
       "      <td>http://nike.com</td>\n",
       "    </tr>\n",
       "    <tr>\n",
       "      <th>1</th>\n",
       "      <td>POLO RALPH LAUREN</td>\n",
       "      <td>0</td>\n",
       "      <td>0</td>\n",
       "      <td>0</td>\n",
       "      <td>0</td>\n",
       "      <td>0</td>\n",
       "      <td>0</td>\n",
       "      <td>0</td>\n",
       "      <td>0</td>\n",
       "      <td>0</td>\n",
       "      <td>...</td>\n",
       "      <td>0</td>\n",
       "      <td>0</td>\n",
       "      <td>0</td>\n",
       "      <td>0</td>\n",
       "      <td>0</td>\n",
       "      <td>0</td>\n",
       "      <td>$4.7B</td>\n",
       "      <td>['Accessories', 'Bags', 'Eyewear', 'Footwear',...</td>\n",
       "      <td>Ralph Lauren is a US-based designer and retail...</td>\n",
       "      <td>https://www.poloralphlauren.com</td>\n",
       "    </tr>\n",
       "    <tr>\n",
       "      <th>2</th>\n",
       "      <td>THE NORTH FACE</td>\n",
       "      <td>0</td>\n",
       "      <td>0</td>\n",
       "      <td>0</td>\n",
       "      <td>0</td>\n",
       "      <td>0</td>\n",
       "      <td>0</td>\n",
       "      <td>0</td>\n",
       "      <td>0</td>\n",
       "      <td>0</td>\n",
       "      <td>...</td>\n",
       "      <td>0</td>\n",
       "      <td>0</td>\n",
       "      <td>0</td>\n",
       "      <td>0</td>\n",
       "      <td>0</td>\n",
       "      <td>0</td>\n",
       "      <td>$4.6B</td>\n",
       "      <td>['Womenswear', 'Menswear', 'Accessories']</td>\n",
       "      <td>Founded by husband and wife Douglas and Susie ...</td>\n",
       "      <td>https://www.thenorthface.com</td>\n",
       "    </tr>\n",
       "    <tr>\n",
       "      <th>3</th>\n",
       "      <td>LOUIS VUITTON</td>\n",
       "      <td>0</td>\n",
       "      <td>0</td>\n",
       "      <td>23</td>\n",
       "      <td>0</td>\n",
       "      <td>0</td>\n",
       "      <td>0</td>\n",
       "      <td>0</td>\n",
       "      <td>0</td>\n",
       "      <td>0</td>\n",
       "      <td>...</td>\n",
       "      <td>0</td>\n",
       "      <td>0</td>\n",
       "      <td>0</td>\n",
       "      <td>0</td>\n",
       "      <td>0</td>\n",
       "      <td>0</td>\n",
       "      <td>$36.4B</td>\n",
       "      <td>['Womenswear', 'Menswear', 'Accessories']</td>\n",
       "      <td>LOUIS VUITTON ist seit über 160 Jahren eine de...</td>\n",
       "      <td>http://www.louisvuitton.com</td>\n",
       "    </tr>\n",
       "    <tr>\n",
       "      <th>4</th>\n",
       "      <td>UNIQLO</td>\n",
       "      <td>0</td>\n",
       "      <td>0</td>\n",
       "      <td>0</td>\n",
       "      <td>0</td>\n",
       "      <td>0</td>\n",
       "      <td>0</td>\n",
       "      <td>0</td>\n",
       "      <td>0</td>\n",
       "      <td>0</td>\n",
       "      <td>...</td>\n",
       "      <td>0</td>\n",
       "      <td>0</td>\n",
       "      <td>0</td>\n",
       "      <td>0</td>\n",
       "      <td>0</td>\n",
       "      <td>0</td>\n",
       "      <td>$9.4B</td>\n",
       "      <td>NaN</td>\n",
       "      <td>Uniqlo is a modern Japanese company that inspi...</td>\n",
       "      <td>http://www.uniqlo.com/</td>\n",
       "    </tr>\n",
       "    <tr>\n",
       "      <th>...</th>\n",
       "      <td>...</td>\n",
       "      <td>...</td>\n",
       "      <td>...</td>\n",
       "      <td>...</td>\n",
       "      <td>...</td>\n",
       "      <td>...</td>\n",
       "      <td>...</td>\n",
       "      <td>...</td>\n",
       "      <td>...</td>\n",
       "      <td>...</td>\n",
       "      <td>...</td>\n",
       "      <td>...</td>\n",
       "      <td>...</td>\n",
       "      <td>...</td>\n",
       "      <td>...</td>\n",
       "      <td>...</td>\n",
       "      <td>...</td>\n",
       "      <td>...</td>\n",
       "      <td>...</td>\n",
       "      <td>...</td>\n",
       "      <td>...</td>\n",
       "    </tr>\n",
       "    <tr>\n",
       "      <th>89</th>\n",
       "      <td>TAG HEUER</td>\n",
       "      <td>0</td>\n",
       "      <td>0</td>\n",
       "      <td>0</td>\n",
       "      <td>0</td>\n",
       "      <td>0</td>\n",
       "      <td>0</td>\n",
       "      <td>0</td>\n",
       "      <td>0</td>\n",
       "      <td>0</td>\n",
       "      <td>...</td>\n",
       "      <td>0</td>\n",
       "      <td>0</td>\n",
       "      <td>0</td>\n",
       "      <td>0</td>\n",
       "      <td>0</td>\n",
       "      <td>0</td>\n",
       "      <td>$645M</td>\n",
       "      <td>NaN</td>\n",
       "      <td>TAG Heuer is a watch company founded in 1860 b...</td>\n",
       "      <td>http://www.tagheuer.com/</td>\n",
       "    </tr>\n",
       "    <tr>\n",
       "      <th>90</th>\n",
       "      <td>BANANA REPUBLIC</td>\n",
       "      <td>0</td>\n",
       "      <td>0</td>\n",
       "      <td>0</td>\n",
       "      <td>0</td>\n",
       "      <td>0</td>\n",
       "      <td>0</td>\n",
       "      <td>0</td>\n",
       "      <td>0</td>\n",
       "      <td>0</td>\n",
       "      <td>...</td>\n",
       "      <td>0</td>\n",
       "      <td>0</td>\n",
       "      <td>0</td>\n",
       "      <td>0</td>\n",
       "      <td>0</td>\n",
       "      <td>0</td>\n",
       "      <td>$640M</td>\n",
       "      <td>['Womenswear', 'Menswear', 'Kidswear', 'Footwe...</td>\n",
       "      <td>Banana Republic is a clothing and accessories ...</td>\n",
       "      <td>https://www.bananarepublic.eu</td>\n",
       "    </tr>\n",
       "    <tr>\n",
       "      <th>91</th>\n",
       "      <td>DESIGUAL</td>\n",
       "      <td>0</td>\n",
       "      <td>0</td>\n",
       "      <td>0</td>\n",
       "      <td>0</td>\n",
       "      <td>0</td>\n",
       "      <td>0</td>\n",
       "      <td>0</td>\n",
       "      <td>0</td>\n",
       "      <td>0</td>\n",
       "      <td>...</td>\n",
       "      <td>0</td>\n",
       "      <td>0</td>\n",
       "      <td>0</td>\n",
       "      <td>0</td>\n",
       "      <td>0</td>\n",
       "      <td>0</td>\n",
       "      <td>$627M</td>\n",
       "      <td>['Womenswear', 'Menswear', 'Kidswear', 'Sports...</td>\n",
       "      <td>Thomas Meyer created Desigual in 1984, in the ...</td>\n",
       "      <td>http://www.desigual.com</td>\n",
       "    </tr>\n",
       "    <tr>\n",
       "      <th>92</th>\n",
       "      <td>CAVALLI</td>\n",
       "      <td>0</td>\n",
       "      <td>23</td>\n",
       "      <td>2</td>\n",
       "      <td>0</td>\n",
       "      <td>0</td>\n",
       "      <td>0</td>\n",
       "      <td>0</td>\n",
       "      <td>0</td>\n",
       "      <td>0</td>\n",
       "      <td>...</td>\n",
       "      <td>0</td>\n",
       "      <td>0</td>\n",
       "      <td>0</td>\n",
       "      <td>0</td>\n",
       "      <td>0</td>\n",
       "      <td>0</td>\n",
       "      <td>$622M</td>\n",
       "      <td>['Womenswear', 'Menswear', 'Kidswear', 'Footwe...</td>\n",
       "      <td>Founded in 1970, Roberto Cavalli is an Italian...</td>\n",
       "      <td>https://robertocavalli.com</td>\n",
       "    </tr>\n",
       "    <tr>\n",
       "      <th>93</th>\n",
       "      <td>TED BAKER</td>\n",
       "      <td>0</td>\n",
       "      <td>0</td>\n",
       "      <td>0</td>\n",
       "      <td>0</td>\n",
       "      <td>0</td>\n",
       "      <td>0</td>\n",
       "      <td>0</td>\n",
       "      <td>0</td>\n",
       "      <td>0</td>\n",
       "      <td>...</td>\n",
       "      <td>0</td>\n",
       "      <td>0</td>\n",
       "      <td>0</td>\n",
       "      <td>0</td>\n",
       "      <td>0</td>\n",
       "      <td>0</td>\n",
       "      <td>$100M</td>\n",
       "      <td>['Accessories', 'Bags', 'Eyewear', 'Jewelry', ...</td>\n",
       "      <td>Ted Baker is a British designer and retailer o...</td>\n",
       "      <td>https://www.tedbaker.com</td>\n",
       "    </tr>\n",
       "  </tbody>\n",
       "</table>\n",
       "<p>94 rows × 255 columns</p>\n",
       "</div>"
      ],
      "text/plain": [
       "                Brand  Afghanistan  Albania  Algeria  American Samoa  Andorra  \\\n",
       "0                NIKE            0        0       11               0        0   \n",
       "1   POLO RALPH LAUREN            0        0        0               0        0   \n",
       "2      THE NORTH FACE            0        0        0               0        0   \n",
       "3       LOUIS VUITTON            0        0       23               0        0   \n",
       "4              UNIQLO            0        0        0               0        0   \n",
       "..                ...          ...      ...      ...             ...      ...   \n",
       "89          TAG HEUER            0        0        0               0        0   \n",
       "90    BANANA REPUBLIC            0        0        0               0        0   \n",
       "91           DESIGUAL            0        0        0               0        0   \n",
       "92            CAVALLI            0       23        2               0        0   \n",
       "93          TED BAKER            0        0        0               0        0   \n",
       "\n",
       "    Angola  Anguilla  Antarctica  Antigua & Barbuda  ...  Wallis & Futuna  \\\n",
       "0        0         0           0                  0  ...                0   \n",
       "1        0         0           0                  0  ...                0   \n",
       "2        0         0           0                  0  ...                0   \n",
       "3        0         0           0                  0  ...                0   \n",
       "4        0         0           0                  0  ...                0   \n",
       "..     ...       ...         ...                ...  ...              ...   \n",
       "89       0         0           0                  0  ...                0   \n",
       "90       0         0           0                  0  ...                0   \n",
       "91       0         0           0                  0  ...                0   \n",
       "92       0         0           0                  0  ...                0   \n",
       "93       0         0           0                  0  ...                0   \n",
       "\n",
       "    Western Sahara  Yemen  Zambia  Zimbabwe  Åland Islands  \\\n",
       "0                0      0       0         0              0   \n",
       "1                0      0       0         0              0   \n",
       "2                0      0       0         0              0   \n",
       "3                0      0       0         0              0   \n",
       "4                0      0       0         0              0   \n",
       "..             ...    ...     ...       ...            ...   \n",
       "89               0      0       0         0              0   \n",
       "90               0      0       0         0              0   \n",
       "91               0      0       0         0              0   \n",
       "92               0      0       0         0              0   \n",
       "93               0      0       0         0              0   \n",
       "\n",
       "    2023 Brand Value in $                                           Products  \\\n",
       "0                  $42.5B                                     ['Sportswear']   \n",
       "1                   $4.7B  ['Accessories', 'Bags', 'Eyewear', 'Footwear',...   \n",
       "2                   $4.6B          ['Womenswear', 'Menswear', 'Accessories']   \n",
       "3                  $36.4B          ['Womenswear', 'Menswear', 'Accessories']   \n",
       "4                   $9.4B                                                NaN   \n",
       "..                    ...                                                ...   \n",
       "89                  $645M                                                NaN   \n",
       "90                  $640M  ['Womenswear', 'Menswear', 'Kidswear', 'Footwe...   \n",
       "91                  $627M  ['Womenswear', 'Menswear', 'Kidswear', 'Sports...   \n",
       "92                  $622M  ['Womenswear', 'Menswear', 'Kidswear', 'Footwe...   \n",
       "93                  $100M  ['Accessories', 'Bags', 'Eyewear', 'Jewelry', ...   \n",
       "\n",
       "                                          Description  \\\n",
       "0   Our mission is what drives us to do everything...   \n",
       "1   Ralph Lauren is a US-based designer and retail...   \n",
       "2   Founded by husband and wife Douglas and Susie ...   \n",
       "3   LOUIS VUITTON ist seit über 160 Jahren eine de...   \n",
       "4   Uniqlo is a modern Japanese company that inspi...   \n",
       "..                                                ...   \n",
       "89  TAG Heuer is a watch company founded in 1860 b...   \n",
       "90  Banana Republic is a clothing and accessories ...   \n",
       "91  Thomas Meyer created Desigual in 1984, in the ...   \n",
       "92  Founded in 1970, Roberto Cavalli is an Italian...   \n",
       "93  Ted Baker is a British designer and retailer o...   \n",
       "\n",
       "                            Website  \n",
       "0                   http://nike.com  \n",
       "1   https://www.poloralphlauren.com  \n",
       "2      https://www.thenorthface.com  \n",
       "3       http://www.louisvuitton.com  \n",
       "4            http://www.uniqlo.com/  \n",
       "..                              ...  \n",
       "89         http://www.tagheuer.com/  \n",
       "90    https://www.bananarepublic.eu  \n",
       "91          http://www.desigual.com  \n",
       "92       https://robertocavalli.com  \n",
       "93         https://www.tedbaker.com  \n",
       "\n",
       "[94 rows x 255 columns]"
      ]
     },
     "execution_count": 3,
     "metadata": {},
     "output_type": "execute_result"
    }
   ],
   "source": [
    "df2 = pd.read_csv(\"data/Finaldf.csv\").drop(\"Unnamed: 0\", axis=1)\n",
    "df2"
   ]
  },
  {
   "cell_type": "code",
   "execution_count": 46,
   "metadata": {},
   "outputs": [
    {
     "name": "stdout",
     "output_type": "stream",
     "text": [
      "43\n"
     ]
    }
   ],
   "source": [
    "print(df2[\"Products\"].isna().sum())\n"
   ]
  },
  {
   "cell_type": "code",
   "execution_count": 5,
   "metadata": {},
   "outputs": [],
   "source": [
    "df2[\"Products\"] = df2[\"Products\"].apply(lambda x: ast.literal_eval(x) if pd.notna(x) else x)\n",
    "df2[\"Product_Count\"] = df2[\"Products\"].apply(lambda x: len(x) if isinstance(x, list) else 0)\n"
   ]
  },
  {
   "cell_type": "code",
   "execution_count": 6,
   "metadata": {},
   "outputs": [],
   "source": [
    "df[\"Products\"] = df[\"Products\"].apply(lambda x: ast.literal_eval(x) if pd.notna(x) else x)"
   ]
  },
  {
   "cell_type": "code",
   "execution_count": 7,
   "metadata": {},
   "outputs": [
    {
     "data": {
      "text/plain": [
       "'\\nall_products = []\\n\\n# Iterate over each sublist in the Products column\\nfor sublist in df2[\"Products\"]:\\n    # Check if the sublist is a valid list\\n    if isinstance(sublist, list):\\n        # Iterate over each product in the sublist\\n        for product in sublist:\\n            all_products.append(product)\\n'"
      ]
     },
     "execution_count": 7,
     "metadata": {},
     "output_type": "execute_result"
    }
   ],
   "source": [
    "'''\n",
    "all_products = []\n",
    "\n",
    "# Iterate over each sublist in the Products column\n",
    "for sublist in df2[\"Products\"]:\n",
    "    # Check if the sublist is a valid list\n",
    "    if isinstance(sublist, list):\n",
    "        # Iterate over each product in the sublist\n",
    "        for product in sublist:\n",
    "            all_products.append(product)\n",
    "'''"
   ]
  },
  {
   "cell_type": "code",
   "execution_count": 8,
   "metadata": {},
   "outputs": [],
   "source": [
    "# Flatten the data\n",
    "all_products = [product for sublist in df2[\"Products\"] if isinstance(sublist, list) for product in sublist]\n",
    "scraped_products = [product for sublist in df[\"Products\"] if isinstance(sublist, list) for product in sublist]"
   ]
  },
  {
   "cell_type": "code",
   "execution_count": 9,
   "metadata": {},
   "outputs": [
    {
     "data": {
      "text/plain": [
       "True"
      ]
     },
     "execution_count": 9,
     "metadata": {},
     "output_type": "execute_result"
    }
   ],
   "source": [
    "len(all_products) == df2.Product_Count.sum()"
   ]
  },
  {
   "cell_type": "code",
   "execution_count": 10,
   "metadata": {},
   "outputs": [],
   "source": [
    "product_count = Counter(all_products)\n",
    "product_count\n",
    "\n",
    "scraped_count = Counter(scraped_products)"
   ]
  },
  {
   "cell_type": "code",
   "execution_count": 11,
   "metadata": {},
   "outputs": [
    {
     "name": "stderr",
     "output_type": "stream",
     "text": [
      "C:\\Users\\tedoc\\AppData\\Local\\Temp\\ipykernel_4932\\2469358261.py:3: FutureWarning: \n",
      "\n",
      "Passing `palette` without assigning `hue` is deprecated and will be removed in v0.14.0. Assign the `x` variable to `hue` and set `legend=False` for the same effect.\n",
      "\n",
      "  sns.barplot(x=\"Product\", y=\"Count\", data=pd.DataFrame(product_count.items(), columns=[\"Product\", \"Count\"]), palette=\"viridis\")\n"
     ]
    },
    {
     "data": {
      "image/png": "[encoded data removed]",
      "text/plain": [
       "<Figure size 800x600 with 1 Axes>"
      ]
     },
     "metadata": {},
     "output_type": "display_data"
    }
   ],
   "source": [
    "# Plot using Seaborn\n",
    "plt.figure(figsize=(8, 6))\n",
    "sns.barplot(x=\"Product\", y=\"Count\", data=pd.DataFrame(product_count.items(), columns=[\"Product\", \"Count\"]), palette=\"viridis\")\n",
    "plt.xlabel(\"Brand\", fontsize=12)\n",
    "plt.ylabel(\"Number of Products\", fontsize=12)\n",
    "plt.xticks(rotation=30)\n",
    "plt.title(\"Number of Products per Brand\", fontsize=14)\n",
    "plt.show()"
   ]
  },
  {
   "cell_type": "code",
   "execution_count": 12,
   "metadata": {},
   "outputs": [
    {
     "name": "stderr",
     "output_type": "stream",
     "text": [
      "C:\\Users\\tedoc\\AppData\\Local\\Temp\\ipykernel_4932\\2667318426.py:3: FutureWarning: \n",
      "\n",
      "Passing `palette` without assigning `hue` is deprecated and will be removed in v0.14.0. Assign the `x` variable to `hue` and set `legend=False` for the same effect.\n",
      "\n",
      "  sns.barplot(x=\"Product\", y=\"Count\", data=pd.DataFrame(scraped_count.items(), columns=[\"Product\", \"Count\"]), palette=\"viridis\")\n"
     ]
    },
    {
     "data": {
      "image/png": "[encoded data removed]",
      "text/plain": [
       "<Figure size 1000x800 with 1 Axes>"
      ]
     },
     "metadata": {},
     "output_type": "display_data"
    }
   ],
   "source": [
    "# Plot using Seaborn\n",
    "plt.figure(figsize=(10, 8))\n",
    "sns.barplot(x=\"Product\", y=\"Count\", data=pd.DataFrame(scraped_count.items(), columns=[\"Product\", \"Count\"]), palette=\"viridis\")\n",
    "plt.xlabel(\"Brand\", fontsize=12)\n",
    "plt.ylabel(\"Number of Products\", fontsize=12)\n",
    "plt.xticks(rotation=90)\n",
    "plt.title(\"Number of Products per Brand Scraped Data\", fontsize=14)\n",
    "plt.show()"
   ]
  },
  {
   "cell_type": "markdown",
   "metadata": {},
   "source": [
    "## Fixing the Proudct sparcity (typos, combining some, so we dont have such unbalanced data)"
   ]
  },
  {
   "cell_type": "code",
   "execution_count": 13,
   "metadata": {},
   "outputs": [
    {
     "name": "stdout",
     "output_type": "stream",
     "text": [
      "DOLCE & GABBANA\n"
     ]
    }
   ],
   "source": [
    "for _, row in df2.iterrows():\n",
    "    if isinstance(row[\"Products\"], list):\n",
    "        if \"Denim\" in row[\"Products\"]:\n",
    "            print(row[\"Brand\"])"
   ]
  },
  {
   "cell_type": "markdown",
   "metadata": {},
   "source": [
    "Downsacling the Products "
   ]
  },
  {
   "cell_type": "code",
   "execution_count": 14,
   "metadata": {},
   "outputs": [],
   "source": [
    "# womenswearsus to womensware\n",
    "df[df[\"Brand Name\"] == \"AFRIEK\"][\"Products\"].values[0].append(\"Womenswear\")\n",
    "df[df[\"Brand Name\"] == \"AFRIEK\"][\"Products\"].values[0].remove(\"Womenswearsus\")"
   ]
  },
  {
   "cell_type": "code",
   "execution_count": 15,
   "metadata": {},
   "outputs": [
    {
     "data": {
      "text/html": [
       "<div>\n",
       "<style scoped>\n",
       "    .dataframe tbody tr th:only-of-type {\n",
       "        vertical-align: middle;\n",
       "    }\n",
       "\n",
       "    .dataframe tbody tr th {\n",
       "        vertical-align: top;\n",
       "    }\n",
       "\n",
       "    .dataframe thead th {\n",
       "        text-align: right;\n",
       "    }\n",
       "</style>\n",
       "<table border=\"1\" class=\"dataframe\">\n",
       "  <thead>\n",
       "    <tr style=\"text-align: right;\">\n",
       "      <th></th>\n",
       "      <th>Brand Name</th>\n",
       "      <th>Products</th>\n",
       "      <th>Description</th>\n",
       "      <th>Website</th>\n",
       "    </tr>\n",
       "  </thead>\n",
       "  <tbody>\n",
       "    <tr>\n",
       "      <th>69</th>\n",
       "      <td>AFRIEK</td>\n",
       "      <td>[Womenswear]</td>\n",
       "      <td>AFRIEK has grown into a transnational collecti...</td>\n",
       "      <td>https://afriek.com</td>\n",
       "    </tr>\n",
       "  </tbody>\n",
       "</table>\n",
       "</div>"
      ],
      "text/plain": [
       "   Brand Name      Products  \\\n",
       "69     AFRIEK  [Womenswear]   \n",
       "\n",
       "                                          Description             Website  \n",
       "69  AFRIEK has grown into a transnational collecti...  https://afriek.com  "
      ]
     },
     "execution_count": 15,
     "metadata": {},
     "output_type": "execute_result"
    }
   ],
   "source": [
    "df[df[\"Brand Name\"] == \"AFRIEK\"]"
   ]
  },
  {
   "cell_type": "code",
   "execution_count": 16,
   "metadata": {},
   "outputs": [
    {
     "data": {
      "text/html": [
       "<div>\n",
       "<style scoped>\n",
       "    .dataframe tbody tr th:only-of-type {\n",
       "        vertical-align: middle;\n",
       "    }\n",
       "\n",
       "    .dataframe tbody tr th {\n",
       "        vertical-align: top;\n",
       "    }\n",
       "\n",
       "    .dataframe thead th {\n",
       "        text-align: right;\n",
       "    }\n",
       "</style>\n",
       "<table border=\"1\" class=\"dataframe\">\n",
       "  <thead>\n",
       "    <tr style=\"text-align: right;\">\n",
       "      <th></th>\n",
       "      <th>Brand Name</th>\n",
       "      <th>Products</th>\n",
       "      <th>Description</th>\n",
       "      <th>Website</th>\n",
       "    </tr>\n",
       "  </thead>\n",
       "  <tbody>\n",
       "    <tr>\n",
       "      <th>264</th>\n",
       "      <td>Audio Architect Apparel</td>\n",
       "      <td>[Womenswear, Footwear, Accessories, Menswear]</td>\n",
       "      <td>Audio Architect Apparel was founded in 2015 fo...</td>\n",
       "      <td>https://www.audioarchitect.co</td>\n",
       "    </tr>\n",
       "  </tbody>\n",
       "</table>\n",
       "</div>"
      ],
      "text/plain": [
       "                  Brand Name                                       Products  \\\n",
       "264  Audio Architect Apparel  [Womenswear, Footwear, Accessories, Menswear]   \n",
       "\n",
       "                                           Description  \\\n",
       "264  Audio Architect Apparel was founded in 2015 fo...   \n",
       "\n",
       "                           Website  \n",
       "264  https://www.audioarchitect.co  "
      ]
     },
     "execution_count": 16,
     "metadata": {},
     "output_type": "execute_result"
    }
   ],
   "source": [
    "# meanswear to menswear\n",
    "df[df[\"Brand Name\"] == \"Allbirds\"][\"Products\"].values[0].append(\"Menswear\")\n",
    "df[df[\"Brand Name\"] == \"Allbirds\"][\"Products\"].values[0].remove(\"Meanswear\")\n",
    "\n",
    "df[df[\"Brand Name\"] == \"Audio Architect Apparel\"][\"Products\"].values[0].append(\"Menswear\")\n",
    "df[df[\"Brand Name\"] == \"Audio Architect Apparel\"][\"Products\"].values[0].remove(\"Meanswear\")\n",
    "\n",
    "df[df[\"Brand Name\"] == \"Allbirds\"]\n",
    "df[df[\"Brand Name\"] == \"Audio Architect Apparel\"]"
   ]
  },
  {
   "cell_type": "code",
   "execution_count": 17,
   "metadata": {},
   "outputs": [],
   "source": [
    "# Remove Homeware\n",
    "df[df[\"Brand Name\"] == \"ANNA+NINA\"][\"Products\"].values[0].remove(\"Homeware\")\n",
    "df[df[\"Brand Name\"] == \"BALR.\"][\"Products\"].values[0].remove(\"Footwearbags\")\n",
    "df[df[\"Brand Name\"] == \"SAS BONTON\"][\"Products\"].values[0].remove(\"Bagsfootwear\")\n",
    "df[df[\"Brand Name\"] == \"bruno banani\"][\"Products\"].values[0].remove(\"Sleepwear\")\n",
    "df[df[\"Brand Name\"] == \"Savage X Fenty\"][\"Products\"].values[0].remove(\"Sleepwear\")\n"
   ]
  },
  {
   "cell_type": "code",
   "execution_count": 18,
   "metadata": {},
   "outputs": [],
   "source": [
    "# Change from Sportwear to Sportswear\n",
    "for _, row in df.iterrows():\n",
    "    if isinstance(row[\"Products\"], list):\n",
    "        if \"Sportwear\" in row[\"Products\"]:\n",
    "            df[df[\"Brand Name\"] == row[\"Brand Name\"]][\"Products\"].values[0].append(\"Sportswear\")\n",
    "            df[df[\"Brand Name\"] == row[\"Brand Name\"]][\"Products\"].values[0].remove(\"Sportwear\")    "
   ]
  },
  {
   "cell_type": "code",
   "execution_count": 19,
   "metadata": {},
   "outputs": [],
   "source": [
    "# Fix Accessories\n",
    "df[df[\"Brand Name\"] == \"Cosmogonie Paris\"][\"Products\"].values[0].append(\"Accessories\")\n",
    "df[df[\"Brand Name\"] == \"Cosmogonie Paris\"][\"Products\"].values[0].remove(\"Accesoires\")\n",
    "\n",
    "df[df[\"Brand Name\"] == \"HANS PLOENES GmbH\"][\"Products\"].values[0].append(\"Accessories\")\n",
    "df[df[\"Brand Name\"] == \"HANS PLOENES GmbH\"][\"Products\"].values[0].remove(\"Accesoires\")"
   ]
  },
  {
   "cell_type": "code",
   "execution_count": 20,
   "metadata": {},
   "outputs": [],
   "source": [
    "# Fix Swimwear\n",
    "df[df[\"Brand Name\"] == \"FRED SEGAL\"][\"Products\"].values[0].append(\"Swimwear\")\n",
    "df[df[\"Brand Name\"] == \"FRED SEGAL\"][\"Products\"].values[0].remove(\"Simwear\")"
   ]
  },
  {
   "cell_type": "code",
   "execution_count": 21,
   "metadata": {},
   "outputs": [],
   "source": [
    "# Fix Kidswear, footwear\n",
    "df[df[\"Brand Name\"] == \"Fusalp\"][\"Products\"].values[0].append(\"Kidswear\")\n",
    "df[df[\"Brand Name\"] == \"Fusalp\"][\"Products\"].values[0].append(\"Footwear\")\n",
    "\n",
    "df[df[\"Brand Name\"] == \"Fusalp\"][\"Products\"].values[0].remove(\"Kidswearfootwear\")"
   ]
  },
  {
   "cell_type": "code",
   "execution_count": 22,
   "metadata": {},
   "outputs": [],
   "source": [
    "# Fix Shoes\n",
    "df[df[\"Brand Name\"] == \"GRETCHEN\"][\"Products\"].values[0].append(\"Footwear\")\n",
    "df[df[\"Brand Name\"] == \"GRETCHEN\"][\"Products\"].values[0].remove(\"Shoes\")"
   ]
  },
  {
   "cell_type": "code",
   "execution_count": 23,
   "metadata": {},
   "outputs": [],
   "source": [
    "# Fix Maternity wear\n",
    "df[df[\"Brand Name\"] == \"ITEM m6\"][\"Products\"].values[0].append(\"Maternity wear\")\n",
    "df[df[\"Brand Name\"] == \"ITEM m6\"][\"Products\"].values[0].remove(\"Maternitywear\")"
   ]
  },
  {
   "cell_type": "code",
   "execution_count": 24,
   "metadata": {},
   "outputs": [],
   "source": [
    "# Fix Kidswear\n",
    "df[df[\"Brand Name\"] == \"Jochie International BV\"][\"Products\"].values[0].append(\"Kidswear\")\n",
    "df[df[\"Brand Name\"] == \"Jochie International BV\"][\"Products\"].values[0].remove(\"Kids\")"
   ]
  },
  {
   "cell_type": "code",
   "execution_count": 25,
   "metadata": {},
   "outputs": [],
   "source": [
    "# Fix Kidswear\n",
    "df[df[\"Brand Name\"] == \"Marc Jacobs\"][\"Products\"].values[0].append(\"Kidswear\")\n",
    "df[df[\"Brand Name\"] == \"Marc Jacobs\"][\"Products\"].values[0].remove(\"Kids wear\")\n",
    "\n",
    "df[df[\"Brand Name\"] == \"Marinepool\"][\"Products\"].values[0].append(\"Kidswear\")\n",
    "df[df[\"Brand Name\"] == \"Marinepool\"][\"Products\"].values[0].remove(\"Kids wear\")"
   ]
  },
  {
   "cell_type": "code",
   "execution_count": 26,
   "metadata": {},
   "outputs": [],
   "source": [
    "# Vegan to Sustainability\n",
    "\n",
    "df[df[\"Brand Name\"] == \"LaBante\"][\"Products\"].values[0].remove(\"Vegan\")\n",
    "df[df[\"Brand Name\"] == \"LaBante\"][\"Products\"].values[0].append(\"Sustainable\")"
   ]
  },
  {
   "cell_type": "code",
   "execution_count": 27,
   "metadata": {},
   "outputs": [],
   "source": [
    "df[df[\"Brand Name\"] == \"MERSOR\"][\"Products\"].values[0].append(\"Accessories\")\n",
    "df[df[\"Brand Name\"] == \"MERSOR\"][\"Products\"].values[0].remove(\"Accesories\")\n",
    "\n",
    "df[df[\"Brand Name\"] == \"Nanga\"][\"Products\"].values[0].append(\"Accessories\")\n",
    "df[df[\"Brand Name\"] == \"Nanga\"][\"Products\"].values[0].remove(\"Accesories\")"
   ]
  },
  {
   "cell_type": "code",
   "execution_count": 28,
   "metadata": {},
   "outputs": [],
   "source": [
    "df[df[\"Brand Name\"] == \"Nove\"][\"Products\"].values[0].append(\"Maternity wear\")\n",
    "df[df[\"Brand Name\"] == \"Nove\"][\"Products\"].values[0].remove(\"Maternity\")\n",
    "df[df[\"Brand Name\"] == \"Nove\"][\"Products\"].values[0].remove(\"Wear\")"
   ]
  },
  {
   "cell_type": "code",
   "execution_count": 38,
   "metadata": {},
   "outputs": [
    {
     "ename": "ValueError",
     "evalue": "list.remove(x): x not in list",
     "output_type": "error",
     "traceback": [
      "\u001b[1;31m---------------------------------------------------------------------------\u001b[0m",
      "\u001b[1;31mValueError\u001b[0m                                Traceback (most recent call last)",
      "Cell \u001b[1;32mIn[38], line 3\u001b[0m\n\u001b[0;32m      1\u001b[0m \u001b[38;5;66;03m# Fix Home and Garden\u001b[39;00m\n\u001b[0;32m      2\u001b[0m df[df[\u001b[38;5;124m\"\u001b[39m\u001b[38;5;124mBrand Name\u001b[39m\u001b[38;5;124m\"\u001b[39m] \u001b[38;5;241m==\u001b[39m \u001b[38;5;124m\"\u001b[39m\u001b[38;5;124mPip Studio\u001b[39m\u001b[38;5;124m\"\u001b[39m][\u001b[38;5;124m\"\u001b[39m\u001b[38;5;124mProducts\u001b[39m\u001b[38;5;124m\"\u001b[39m]\u001b[38;5;241m.\u001b[39mvalues[\u001b[38;5;241m0\u001b[39m]\u001b[38;5;241m.\u001b[39mappend(\u001b[38;5;124m\"\u001b[39m\u001b[38;5;124mAccessories\u001b[39m\u001b[38;5;124m\"\u001b[39m)\n\u001b[1;32m----> 3\u001b[0m \u001b[43mdf\u001b[49m\u001b[43m[\u001b[49m\u001b[43mdf\u001b[49m\u001b[43m[\u001b[49m\u001b[38;5;124;43m\"\u001b[39;49m\u001b[38;5;124;43mBrand Name\u001b[39;49m\u001b[38;5;124;43m\"\u001b[39;49m\u001b[43m]\u001b[49m\u001b[43m \u001b[49m\u001b[38;5;241;43m==\u001b[39;49m\u001b[43m \u001b[49m\u001b[38;5;124;43m\"\u001b[39;49m\u001b[38;5;124;43mPip Studio\u001b[39;49m\u001b[38;5;124;43m\"\u001b[39;49m\u001b[43m]\u001b[49m\u001b[43m[\u001b[49m\u001b[38;5;124;43m\"\u001b[39;49m\u001b[38;5;124;43mProducts\u001b[39;49m\u001b[38;5;124;43m\"\u001b[39;49m\u001b[43m]\u001b[49m\u001b[38;5;241;43m.\u001b[39;49m\u001b[43mvalues\u001b[49m\u001b[43m[\u001b[49m\u001b[38;5;241;43m0\u001b[39;49m\u001b[43m]\u001b[49m\u001b[38;5;241;43m.\u001b[39;49m\u001b[43mremove\u001b[49m\u001b[43m(\u001b[49m\u001b[38;5;124;43m\"\u001b[39;49m\u001b[38;5;124;43mHome &\u001b[39;49m\u001b[38;5;124;43m\"\u001b[39;49m\u001b[43m)\u001b[49m\n\u001b[0;32m      4\u001b[0m df[df[\u001b[38;5;124m\"\u001b[39m\u001b[38;5;124mBrand Name\u001b[39m\u001b[38;5;124m\"\u001b[39m] \u001b[38;5;241m==\u001b[39m \u001b[38;5;124m\"\u001b[39m\u001b[38;5;124mPip Studio\u001b[39m\u001b[38;5;124m\"\u001b[39m][\u001b[38;5;124m\"\u001b[39m\u001b[38;5;124mProducts\u001b[39m\u001b[38;5;124m\"\u001b[39m]\u001b[38;5;241m.\u001b[39mvalues[\u001b[38;5;241m0\u001b[39m]\u001b[38;5;241m.\u001b[39mremove(\u001b[38;5;124m\"\u001b[39m\u001b[38;5;124mGarden\u001b[39m\u001b[38;5;124m\"\u001b[39m)\n",
      "\u001b[1;31mValueError\u001b[0m: list.remove(x): x not in list"
     ]
    }
   ],
   "source": [
    "# Fix Home and Garden\n",
    "df[df[\"Brand Name\"] == \"Pip Studio\"][\"Products\"].values[0].append(\"Accessories\")\n",
    "df[df[\"Brand Name\"] == \"Pip Studio\"][\"Products\"].values[0].remove(\"Home &\")\n",
    "df[df[\"Brand Name\"] == \"Pip Studio\"][\"Products\"].values[0].remove(\"Garden\")\n"
   ]
  },
  {
   "cell_type": "code",
   "execution_count": 30,
   "metadata": {},
   "outputs": [],
   "source": [
    "# Fix Jerwrly\n",
    "df[df[\"Brand Name\"] == \"Quiksilver\"][\"Products\"].values[0].append(\"Jewelry\")\n",
    "df[df[\"Brand Name\"] == \"Quiksilver\"][\"Products\"].values[0].remove(\"Jewerly\")"
   ]
  },
  {
   "cell_type": "code",
   "execution_count": 31,
   "metadata": {},
   "outputs": [
    {
     "name": "stdout",
     "output_type": "stream",
     "text": [
      "Osprey Europe\n"
     ]
    }
   ],
   "source": [
    "# Change from Accessoires to Accessories\n",
    "for _, row in df.iterrows():\n",
    "    if isinstance(row[\"Products\"], list):\n",
    "        if \"Accessoires\" in row[\"Products\"]:\n",
    "            try:\n",
    "                df[df[\"Brand Name\"] == row[\"Brand Name\"]][\"Products\"].values[0].append(\"Accessories\")\n",
    "                df[df[\"Brand Name\"] == row[\"Brand Name\"]][\"Products\"].values[0].remove(\"Accessoires\")\n",
    "            except:\n",
    "                print(row[\"Brand Name\"])\n",
    "                continue"
   ]
  },
  {
   "cell_type": "code",
   "execution_count": 32,
   "metadata": {},
   "outputs": [],
   "source": [
    "df[df[\"Brand Name\"] == \"Osprey Europe\"][\"Products\"].values[0].remove(\"Accessories\")"
   ]
  },
  {
   "cell_type": "code",
   "execution_count": 33,
   "metadata": {},
   "outputs": [],
   "source": [
    "df.drop(2631, axis=0, inplace=True)"
   ]
  },
  {
   "cell_type": "code",
   "execution_count": 34,
   "metadata": {},
   "outputs": [
    {
     "data": {
      "text/html": [
       "<div>\n",
       "<style scoped>\n",
       "    .dataframe tbody tr th:only-of-type {\n",
       "        vertical-align: middle;\n",
       "    }\n",
       "\n",
       "    .dataframe tbody tr th {\n",
       "        vertical-align: top;\n",
       "    }\n",
       "\n",
       "    .dataframe thead th {\n",
       "        text-align: right;\n",
       "    }\n",
       "</style>\n",
       "<table border=\"1\" class=\"dataframe\">\n",
       "  <thead>\n",
       "    <tr style=\"text-align: right;\">\n",
       "      <th></th>\n",
       "      <th>Brand Name</th>\n",
       "      <th>Products</th>\n",
       "      <th>Description</th>\n",
       "      <th>Website</th>\n",
       "    </tr>\n",
       "  </thead>\n",
       "  <tbody>\n",
       "    <tr>\n",
       "      <th>2630</th>\n",
       "      <td>Osprey Europe</td>\n",
       "      <td>[Bags, Accessories]</td>\n",
       "      <td>Founded in 1974 and based in Cortez, Colorado,...</td>\n",
       "      <td>http://www.ospreyeurope.com</td>\n",
       "    </tr>\n",
       "  </tbody>\n",
       "</table>\n",
       "</div>"
      ],
      "text/plain": [
       "         Brand Name             Products  \\\n",
       "2630  Osprey Europe  [Bags, Accessories]   \n",
       "\n",
       "                                            Description  \\\n",
       "2630  Founded in 1974 and based in Cortez, Colorado,...   \n",
       "\n",
       "                          Website  \n",
       "2630  http://www.ospreyeurope.com  "
      ]
     },
     "execution_count": 34,
     "metadata": {},
     "output_type": "execute_result"
    }
   ],
   "source": [
    "df[df[\"Brand Name\"] == \"Osprey Europe\"]"
   ]
  },
  {
   "cell_type": "code",
   "execution_count": 35,
   "metadata": {},
   "outputs": [],
   "source": [
    "scraped_products = [product for sublist in df[\"Products\"] if isinstance(sublist, list) for product in sublist]\n",
    "scraped_count = Counter(scraped_products)"
   ]
  },
  {
   "cell_type": "code",
   "execution_count": 50,
   "metadata": {},
   "outputs": [
    {
     "data": {
      "text/plain": [
       "0.029334038054968287"
      ]
     },
     "execution_count": 50,
     "metadata": {},
     "output_type": "execute_result"
    }
   ],
   "source": [
    "df[\"Products\"].isna().sum() / len(df)"
   ]
  },
  {
   "cell_type": "code",
   "execution_count": 36,
   "metadata": {},
   "outputs": [
    {
     "name": "stderr",
     "output_type": "stream",
     "text": [
      "C:\\Users\\tedoc\\AppData\\Local\\Temp\\ipykernel_4932\\2667318426.py:3: FutureWarning: \n",
      "\n",
      "Passing `palette` without assigning `hue` is deprecated and will be removed in v0.14.0. Assign the `x` variable to `hue` and set `legend=False` for the same effect.\n",
      "\n",
      "  sns.barplot(x=\"Product\", y=\"Count\", data=pd.DataFrame(scraped_count.items(), columns=[\"Product\", \"Count\"]), palette=\"viridis\")\n"
     ]
    },
    {
     "data": {
      "image/png": "[encoded data removed]",
      "text/plain": [
       "<Figure size 1000x800 with 1 Axes>"
      ]
     },
     "metadata": {},
     "output_type": "display_data"
    }
   ],
   "source": [
    "# Plot using Seaborn\n",
    "plt.figure(figsize=(10, 8))\n",
    "sns.barplot(x=\"Product\", y=\"Count\", data=pd.DataFrame(scraped_count.items(), columns=[\"Product\", \"Count\"]), palette=\"viridis\")\n",
    "plt.xlabel(\"Brand\", fontsize=12)\n",
    "plt.ylabel(\"Number of Products\", fontsize=12)\n",
    "plt.xticks(rotation=90)\n",
    "plt.title(\"Number of Products per Brand Scraped Data\", fontsize=14)\n",
    "plt.show()"
   ]
  },
  {
   "cell_type": "code",
   "execution_count": 37,
   "metadata": {},
   "outputs": [
    {
     "data": {
      "text/html": [
       "<div>\n",
       "<style scoped>\n",
       "    .dataframe tbody tr th:only-of-type {\n",
       "        vertical-align: middle;\n",
       "    }\n",
       "\n",
       "    .dataframe tbody tr th {\n",
       "        vertical-align: top;\n",
       "    }\n",
       "\n",
       "    .dataframe thead th {\n",
       "        text-align: right;\n",
       "    }\n",
       "</style>\n",
       "<table border=\"1\" class=\"dataframe\">\n",
       "  <thead>\n",
       "    <tr style=\"text-align: right;\">\n",
       "      <th></th>\n",
       "      <th>Brand Name</th>\n",
       "      <th>Products</th>\n",
       "      <th>Description</th>\n",
       "      <th>Website</th>\n",
       "    </tr>\n",
       "  </thead>\n",
       "  <tbody>\n",
       "    <tr>\n",
       "      <th>0</th>\n",
       "      <td>0039 Italy</td>\n",
       "      <td>[Womenswear]</td>\n",
       "      <td>BRAND: 0039 Italy DESCRIPTION: When a German l...</td>\n",
       "      <td>http://www.0039italy.com</td>\n",
       "    </tr>\n",
       "    <tr>\n",
       "      <th>1</th>\n",
       "      <td>05 Studio</td>\n",
       "      <td>[Swimwear, Bodywear]</td>\n",
       "      <td>BRAND: 05 Studio DESCRIPTION: We do basics tha...</td>\n",
       "      <td>https://www.the05studio.com</td>\n",
       "    </tr>\n",
       "    <tr>\n",
       "      <th>2</th>\n",
       "      <td>0711</td>\n",
       "      <td>[Bags]</td>\n",
       "      <td>BRAND: 0711 DESCRIPTION: Brand 0711 was founde...</td>\n",
       "      <td>http://0711tbilisi.com</td>\n",
       "    </tr>\n",
       "    <tr>\n",
       "      <th>3</th>\n",
       "      <td>10Days</td>\n",
       "      <td>[Womenswear, Menswear, Accessories]</td>\n",
       "      <td>BRAND: 10Days DESCRIPTION: 10DAYS is an Amster...</td>\n",
       "      <td>https://www.10dayslifestyle.nl</td>\n",
       "    </tr>\n",
       "    <tr>\n",
       "      <th>4</th>\n",
       "      <td>11 Degrees</td>\n",
       "      <td>[Womenswear, Menswear, Kidswear, Accessories]</td>\n",
       "      <td>BRAND: 11 Degrees DESCRIPTION: Here at 11 Degr...</td>\n",
       "      <td>https://www.11degrees.eu/</td>\n",
       "    </tr>\n",
       "    <tr>\n",
       "      <th>...</th>\n",
       "      <td>...</td>\n",
       "      <td>...</td>\n",
       "      <td>...</td>\n",
       "      <td>...</td>\n",
       "    </tr>\n",
       "    <tr>\n",
       "      <th>3780</th>\n",
       "      <td>Blue Tomato GmbH</td>\n",
       "      <td>NaN</td>\n",
       "      <td>BRAND: Blue Tomato GmbH DESCRIPTION: Blue Toma...</td>\n",
       "      <td>NaN</td>\n",
       "    </tr>\n",
       "    <tr>\n",
       "      <th>3781</th>\n",
       "      <td>POLO RALPH LAUREN</td>\n",
       "      <td>[Accessories, Bags, Eyewear, Footwear, Jewelry...</td>\n",
       "      <td>BRAND: POLO RALPH LAUREN DESCRIPTION: Ralph La...</td>\n",
       "      <td>https://www.poloralphlauren.com</td>\n",
       "    </tr>\n",
       "    <tr>\n",
       "      <th>3782</th>\n",
       "      <td>Armani</td>\n",
       "      <td>NaN</td>\n",
       "      <td>BRAND: Armani DESCRIPTION: The Armani Group is...</td>\n",
       "      <td>http://www.armani.com/</td>\n",
       "    </tr>\n",
       "    <tr>\n",
       "      <th>3783</th>\n",
       "      <td>CHANEL</td>\n",
       "      <td>NaN</td>\n",
       "      <td>BRAND: CHANEL DESCRIPTION: CHANEL is a private...</td>\n",
       "      <td>http://www.chanel.com/</td>\n",
       "    </tr>\n",
       "    <tr>\n",
       "      <th>3784</th>\n",
       "      <td>Prada</td>\n",
       "      <td>[Womenswear, Menswear]</td>\n",
       "      <td>BRAND: Prada DESCRIPTION: The Prada Group is a...</td>\n",
       "      <td>http://www.prada.com</td>\n",
       "    </tr>\n",
       "  </tbody>\n",
       "</table>\n",
       "<p>3784 rows × 4 columns</p>\n",
       "</div>"
      ],
      "text/plain": [
       "             Brand Name                                           Products  \\\n",
       "0            0039 Italy                                       [Womenswear]   \n",
       "1             05 Studio                               [Swimwear, Bodywear]   \n",
       "2                  0711                                             [Bags]   \n",
       "3                10Days                [Womenswear, Menswear, Accessories]   \n",
       "4            11 Degrees      [Womenswear, Menswear, Kidswear, Accessories]   \n",
       "...                 ...                                                ...   \n",
       "3780   Blue Tomato GmbH                                                NaN   \n",
       "3781  POLO RALPH LAUREN  [Accessories, Bags, Eyewear, Footwear, Jewelry...   \n",
       "3782             Armani                                                NaN   \n",
       "3783             CHANEL                                                NaN   \n",
       "3784              Prada                             [Womenswear, Menswear]   \n",
       "\n",
       "                                            Description  \\\n",
       "0     BRAND: 0039 Italy DESCRIPTION: When a German l...   \n",
       "1     BRAND: 05 Studio DESCRIPTION: We do basics tha...   \n",
       "2     BRAND: 0711 DESCRIPTION: Brand 0711 was founde...   \n",
       "3     BRAND: 10Days DESCRIPTION: 10DAYS is an Amster...   \n",
       "4     BRAND: 11 Degrees DESCRIPTION: Here at 11 Degr...   \n",
       "...                                                 ...   \n",
       "3780  BRAND: Blue Tomato GmbH DESCRIPTION: Blue Toma...   \n",
       "3781  BRAND: POLO RALPH LAUREN DESCRIPTION: Ralph La...   \n",
       "3782  BRAND: Armani DESCRIPTION: The Armani Group is...   \n",
       "3783  BRAND: CHANEL DESCRIPTION: CHANEL is a private...   \n",
       "3784  BRAND: Prada DESCRIPTION: The Prada Group is a...   \n",
       "\n",
       "                              Website  \n",
       "0            http://www.0039italy.com  \n",
       "1         https://www.the05studio.com  \n",
       "2              http://0711tbilisi.com  \n",
       "3      https://www.10dayslifestyle.nl  \n",
       "4           https://www.11degrees.eu/  \n",
       "...                               ...  \n",
       "3780                              NaN  \n",
       "3781  https://www.poloralphlauren.com  \n",
       "3782           http://www.armani.com/  \n",
       "3783           http://www.chanel.com/  \n",
       "3784             http://www.prada.com  \n",
       "\n",
       "[3784 rows x 4 columns]"
      ]
     },
     "execution_count": 37,
     "metadata": {},
     "output_type": "execute_result"
    }
   ],
   "source": [
    "df[\"Description\"] = \"BRAND: \" + df[\"Brand Name\"] + \" DESCRIPTION: \" + df[\"Description\"]\n",
    "df"
   ]
  },
  {
   "cell_type": "code",
   "execution_count": 41,
   "metadata": {},
   "outputs": [],
   "source": [
    "df.to_csv(\"data/EdditScrapedData.csv\", index=False)"
   ]
  },
  {
   "cell_type": "markdown",
   "metadata": {},
   "source": [
    "### EDA"
   ]
  },
  {
   "cell_type": "code",
   "execution_count": 58,
   "metadata": {},
   "outputs": [
    {
     "data": {
      "text/plain": [
       "<Axes: >"
      ]
     },
     "execution_count": 58,
     "metadata": {},
     "output_type": "execute_result"
    },
    {
     "data": {
      "image/png": "[encoded data removed]",
      "text/plain": [
       "<Figure size 640x480 with 1 Axes>"
      ]
     },
     "metadata": {},
     "output_type": "display_data"
    }
   ],
   "source": [
    "df.Description.str.len().hist()"
   ]
  },
  {
   "cell_type": "code",
   "execution_count": 59,
   "metadata": {},
   "outputs": [],
   "source": [
    "df_notna = df[~df[\"Products\"].isna()]\n",
    "df_NA_description = df[df['Description'].isna()]\n",
    "df_na = df[df[\"Products\"].isna()]\n",
    "\n",
    "df.dropna(subset=['Description'], inplace=True)"
   ]
  },
  {
   "cell_type": "code",
   "execution_count": 62,
   "metadata": {},
   "outputs": [
    {
     "name": "stderr",
     "output_type": "stream",
     "text": [
      "[nltk_data] Downloading package stopwords to\n",
      "[nltk_data]     C:\\Users\\tedoc\\AppData\\Roaming\\nltk_data...\n",
      "[nltk_data]   Package stopwords is already up-to-date!\n"
     ]
    }
   ],
   "source": [
    "import nltk\n",
    "from nltk.corpus import stopwords\n",
    "from nltk.sentiment import SentimentIntensityAnalyzer\n",
    "nltk.download('stopwords')\n",
    "stop=set(stopwords.words('english'))"
   ]
  },
  {
   "cell_type": "code",
   "execution_count": 63,
   "metadata": {},
   "outputs": [],
   "source": [
    "corpus=[]\n",
    "new= df['Description'].str.split()\n",
    "new=new.values.tolist()\n",
    "corpus=[word for i in new for word in i]\n",
    "\n",
    "from collections import defaultdict\n",
    "dic=defaultdict(int)\n",
    "for word in corpus:\n",
    "    if word in stop:\n",
    "        dic[word]+=1"
   ]
  },
  {
   "cell_type": "code",
   "execution_count": 64,
   "metadata": {},
   "outputs": [
    {
     "data": {
      "text/plain": [
       "<Axes: >"
      ]
     },
     "execution_count": 64,
     "metadata": {},
     "output_type": "execute_result"
    },
    {
     "data": {
      "image/png": "[encoded data removed]",
      "text/plain": [
       "<Figure size 640x480 with 1 Axes>"
      ]
     },
     "metadata": {},
     "output_type": "display_data"
    }
   ],
   "source": [
    "counter=Counter(corpus)\n",
    "most=counter.most_common()\n",
    "\n",
    "x, y= [], []\n",
    "for word,count in most[:80]:\n",
    "    if (word not in stop and word != \"BRAND:\" and word != \"DESCRIPTION:\"):\n",
    "        x.append(word)\n",
    "        y.append(count)\n",
    "\n",
    "sns.barplot(x=y,y=x)"
   ]
  },
  {
   "cell_type": "code",
   "execution_count": 65,
   "metadata": {},
   "outputs": [
    {
     "name": "stderr",
     "output_type": "stream",
     "text": [
      "[nltk_data] Downloading package vader_lexicon to\n",
      "[nltk_data]     C:\\Users\\tedoc\\AppData\\Roaming\\nltk_data...\n",
      "[nltk_data]   Package vader_lexicon is already up-to-date!\n"
     ]
    },
    {
     "data": {
      "text/plain": [
       "True"
      ]
     },
     "execution_count": 65,
     "metadata": {},
     "output_type": "execute_result"
    }
   ],
   "source": [
    "nltk.download('vader_lexicon')"
   ]
  },
  {
   "cell_type": "code",
   "execution_count": 66,
   "metadata": {},
   "outputs": [],
   "source": [
    "sia = SentimentIntensityAnalyzer()\n",
    "# Step 3: Perform Sentiment Analysis\n",
    "def analyze_sentiment(text):\n",
    "    sentiment_scores = sia.polarity_scores(text)\n",
    "    return sentiment_scores"
   ]
  },
  {
   "cell_type": "code",
   "execution_count": 67,
   "metadata": {},
   "outputs": [],
   "source": [
    "\n",
    "df[\"Sentiment_Scores\"] = df[\"Description\"].apply(analyze_sentiment)\n",
    "# Extract compound score for overall sentiment\n",
    "df[\"Compound\"] = df[\"Sentiment_Scores\"].apply(lambda x: x['compound'])\n",
    "\n",
    "# Step 4: Categorize Sentiments\n",
    "def categorize_sentiment(compound_score):\n",
    "    if compound_score >= 0.05:\n",
    "        return \"Positive\"\n",
    "    elif compound_score <= -0.05:\n",
    "        return \"Negative\"\n",
    "    else:\n",
    "        return \"Neutral\"\n",
    "\n",
    "df[\"Sentiment\"] = df[\"Compound\"].apply(categorize_sentiment)\n"
   ]
  },
  {
   "cell_type": "code",
   "execution_count": 71,
   "metadata": {},
   "outputs": [
    {
     "data": {
      "text/plain": [
       "Text(0.5, 1.0, 'Sentiment Analysis')"
      ]
     },
     "execution_count": 71,
     "metadata": {},
     "output_type": "execute_result"
    },
    {
     "data": {
      "image/png": "[encoded data removed]",
      "text/plain": [
       "<Figure size 640x480 with 1 Axes>"
      ]
     },
     "metadata": {},
     "output_type": "display_data"
    }
   ],
   "source": [
    "df[\"Sentiment\"].value_counts().plot(kind='bar')\n",
    "plt.title(\"Sentiment Analysis\")"
   ]
  },
  {
   "cell_type": "code",
   "execution_count": 68,
   "metadata": {},
   "outputs": [
    {
     "data": {
      "text/html": [
       "<div>\n",
       "<style scoped>\n",
       "    .dataframe tbody tr th:only-of-type {\n",
       "        vertical-align: middle;\n",
       "    }\n",
       "\n",
       "    .dataframe tbody tr th {\n",
       "        vertical-align: top;\n",
       "    }\n",
       "\n",
       "    .dataframe thead th {\n",
       "        text-align: right;\n",
       "    }\n",
       "</style>\n",
       "<table border=\"1\" class=\"dataframe\">\n",
       "  <thead>\n",
       "    <tr style=\"text-align: right;\">\n",
       "      <th></th>\n",
       "      <th>Brand Name</th>\n",
       "      <th>Products</th>\n",
       "      <th>Description</th>\n",
       "      <th>Website</th>\n",
       "      <th>Sentiment_Scores</th>\n",
       "      <th>Compound</th>\n",
       "      <th>Sentiment</th>\n",
       "    </tr>\n",
       "  </thead>\n",
       "  <tbody>\n",
       "    <tr>\n",
       "      <th>24</th>\n",
       "      <td>4th &amp; Reckless</td>\n",
       "      <td>[Footwear, Womenswear]</td>\n",
       "      <td>BRAND: 4th &amp; Reckless DESCRIPTION: 4th &amp; Reckl...</td>\n",
       "      <td>https://www.4thandreckless.com</td>\n",
       "      <td>{'neg': 0.166, 'neu': 0.755, 'pos': 0.079, 'co...</td>\n",
       "      <td>-0.6908</td>\n",
       "      <td>Negative</td>\n",
       "    </tr>\n",
       "    <tr>\n",
       "      <th>25</th>\n",
       "      <td>4YOU</td>\n",
       "      <td>[Bags]</td>\n",
       "      <td>BRAND: 4YOU DESCRIPTION: 4YOU war eine der ers...</td>\n",
       "      <td>https://www.4you.de</td>\n",
       "      <td>{'neg': 0.192, 'neu': 0.787, 'pos': 0.021, 'co...</td>\n",
       "      <td>-0.9722</td>\n",
       "      <td>Negative</td>\n",
       "    </tr>\n",
       "    <tr>\n",
       "      <th>26</th>\n",
       "      <td>66°North</td>\n",
       "      <td>[Womenswear, Menswear]</td>\n",
       "      <td>BRAND: 66°North DESCRIPTION: 66°North was foun...</td>\n",
       "      <td>https://66north.com</td>\n",
       "      <td>{'neg': 0.095, 'neu': 0.856, 'pos': 0.049, 'co...</td>\n",
       "      <td>-0.6590</td>\n",
       "      <td>Negative</td>\n",
       "    </tr>\n",
       "    <tr>\n",
       "      <th>27</th>\n",
       "      <td>66°North</td>\n",
       "      <td>[Womenswear, Menswear]</td>\n",
       "      <td>BRAND: 66°North DESCRIPTION: 66°North was foun...</td>\n",
       "      <td>https://66north.com</td>\n",
       "      <td>{'neg': 0.095, 'neu': 0.856, 'pos': 0.049, 'co...</td>\n",
       "      <td>-0.6590</td>\n",
       "      <td>Negative</td>\n",
       "    </tr>\n",
       "    <tr>\n",
       "      <th>103</th>\n",
       "      <td>ALEXUS GE.</td>\n",
       "      <td>[Womenswear]</td>\n",
       "      <td>BRAND: ALEXUS GE. DESCRIPTION: THIS IS GE IS A...</td>\n",
       "      <td>https://alexusge.com</td>\n",
       "      <td>{'neg': 0.121, 'neu': 0.789, 'pos': 0.089, 'co...</td>\n",
       "      <td>-0.2342</td>\n",
       "      <td>Negative</td>\n",
       "    </tr>\n",
       "    <tr>\n",
       "      <th>...</th>\n",
       "      <td>...</td>\n",
       "      <td>...</td>\n",
       "      <td>...</td>\n",
       "      <td>...</td>\n",
       "      <td>...</td>\n",
       "      <td>...</td>\n",
       "      <td>...</td>\n",
       "    </tr>\n",
       "    <tr>\n",
       "      <th>3602</th>\n",
       "      <td>Wasted Atelier</td>\n",
       "      <td>[Womenswear]</td>\n",
       "      <td>BRAND: Wasted Atelier DESCRIPTION: Wasted onts...</td>\n",
       "      <td>https://wastedatelier.be</td>\n",
       "      <td>{'neg': 0.109, 'neu': 0.847, 'pos': 0.045, 'co...</td>\n",
       "      <td>-0.9213</td>\n",
       "      <td>Negative</td>\n",
       "    </tr>\n",
       "    <tr>\n",
       "      <th>3620</th>\n",
       "      <td>Wellington of Bilmore</td>\n",
       "      <td>[Womenswear, Menswear, Accessories]</td>\n",
       "      <td>BRAND: Wellington of Bilmore DESCRIPTION: Die ...</td>\n",
       "      <td>https://www.wellington-of-bilmore.de</td>\n",
       "      <td>{'neg': 0.116, 'neu': 0.875, 'pos': 0.01, 'com...</td>\n",
       "      <td>-0.9843</td>\n",
       "      <td>Negative</td>\n",
       "    </tr>\n",
       "    <tr>\n",
       "      <th>3713</th>\n",
       "      <td>Zense Sportswear</td>\n",
       "      <td>[Sportswear]</td>\n",
       "      <td>BRAND: Zense Sportswear DESCRIPTION: Elke vrou...</td>\n",
       "      <td>https://www.zense-sportswear.com</td>\n",
       "      <td>{'neg': 0.077, 'neu': 0.861, 'pos': 0.062, 'co...</td>\n",
       "      <td>-0.5267</td>\n",
       "      <td>Negative</td>\n",
       "    </tr>\n",
       "    <tr>\n",
       "      <th>3762</th>\n",
       "      <td>RAY BAN</td>\n",
       "      <td>NaN</td>\n",
       "      <td>BRAND: RAY BAN DESCRIPTION: Ray-Ban is the lea...</td>\n",
       "      <td>http://www.ray-ban.com</td>\n",
       "      <td>{'neg': 0.106, 'neu': 0.825, 'pos': 0.07, 'com...</td>\n",
       "      <td>-0.4995</td>\n",
       "      <td>Negative</td>\n",
       "    </tr>\n",
       "    <tr>\n",
       "      <th>3772</th>\n",
       "      <td>TOD'S</td>\n",
       "      <td>[Womenswear, Menswear]</td>\n",
       "      <td>BRAND: TOD'S DESCRIPTION: TOD'S is an Italian ...</td>\n",
       "      <td>http://www.todsgroup.com</td>\n",
       "      <td>{'neg': 0.029, 'neu': 0.941, 'pos': 0.03, 'com...</td>\n",
       "      <td>-0.2023</td>\n",
       "      <td>Negative</td>\n",
       "    </tr>\n",
       "  </tbody>\n",
       "</table>\n",
       "<p>112 rows × 7 columns</p>\n",
       "</div>"
      ],
      "text/plain": [
       "                 Brand Name                             Products  \\\n",
       "24           4th & Reckless               [Footwear, Womenswear]   \n",
       "25                     4YOU                               [Bags]   \n",
       "26                 66°North               [Womenswear, Menswear]   \n",
       "27                 66°North               [Womenswear, Menswear]   \n",
       "103              ALEXUS GE.                         [Womenswear]   \n",
       "...                     ...                                  ...   \n",
       "3602         Wasted Atelier                         [Womenswear]   \n",
       "3620  Wellington of Bilmore  [Womenswear, Menswear, Accessories]   \n",
       "3713       Zense Sportswear                         [Sportswear]   \n",
       "3762                RAY BAN                                  NaN   \n",
       "3772                  TOD'S               [Womenswear, Menswear]   \n",
       "\n",
       "                                            Description  \\\n",
       "24    BRAND: 4th & Reckless DESCRIPTION: 4th & Reckl...   \n",
       "25    BRAND: 4YOU DESCRIPTION: 4YOU war eine der ers...   \n",
       "26    BRAND: 66°North DESCRIPTION: 66°North was foun...   \n",
       "27    BRAND: 66°North DESCRIPTION: 66°North was foun...   \n",
       "103   BRAND: ALEXUS GE. DESCRIPTION: THIS IS GE IS A...   \n",
       "...                                                 ...   \n",
       "3602  BRAND: Wasted Atelier DESCRIPTION: Wasted onts...   \n",
       "3620  BRAND: Wellington of Bilmore DESCRIPTION: Die ...   \n",
       "3713  BRAND: Zense Sportswear DESCRIPTION: Elke vrou...   \n",
       "3762  BRAND: RAY BAN DESCRIPTION: Ray-Ban is the lea...   \n",
       "3772  BRAND: TOD'S DESCRIPTION: TOD'S is an Italian ...   \n",
       "\n",
       "                                   Website  \\\n",
       "24          https://www.4thandreckless.com   \n",
       "25                     https://www.4you.de   \n",
       "26                     https://66north.com   \n",
       "27                     https://66north.com   \n",
       "103                   https://alexusge.com   \n",
       "...                                    ...   \n",
       "3602              https://wastedatelier.be   \n",
       "3620  https://www.wellington-of-bilmore.de   \n",
       "3713      https://www.zense-sportswear.com   \n",
       "3762                http://www.ray-ban.com   \n",
       "3772              http://www.todsgroup.com   \n",
       "\n",
       "                                       Sentiment_Scores  Compound Sentiment  \n",
       "24    {'neg': 0.166, 'neu': 0.755, 'pos': 0.079, 'co...   -0.6908  Negative  \n",
       "25    {'neg': 0.192, 'neu': 0.787, 'pos': 0.021, 'co...   -0.9722  Negative  \n",
       "26    {'neg': 0.095, 'neu': 0.856, 'pos': 0.049, 'co...   -0.6590  Negative  \n",
       "27    {'neg': 0.095, 'neu': 0.856, 'pos': 0.049, 'co...   -0.6590  Negative  \n",
       "103   {'neg': 0.121, 'neu': 0.789, 'pos': 0.089, 'co...   -0.2342  Negative  \n",
       "...                                                 ...       ...       ...  \n",
       "3602  {'neg': 0.109, 'neu': 0.847, 'pos': 0.045, 'co...   -0.9213  Negative  \n",
       "3620  {'neg': 0.116, 'neu': 0.875, 'pos': 0.01, 'com...   -0.9843  Negative  \n",
       "3713  {'neg': 0.077, 'neu': 0.861, 'pos': 0.062, 'co...   -0.5267  Negative  \n",
       "3762  {'neg': 0.106, 'neu': 0.825, 'pos': 0.07, 'com...   -0.4995  Negative  \n",
       "3772  {'neg': 0.029, 'neu': 0.941, 'pos': 0.03, 'com...   -0.2023  Negative  \n",
       "\n",
       "[112 rows x 7 columns]"
      ]
     },
     "execution_count": 68,
     "metadata": {},
     "output_type": "execute_result"
    }
   ],
   "source": [
    "df[df.Sentiment == \"Negative\"] "
   ]
  },
  {
   "cell_type": "code",
   "execution_count": 376,
   "metadata": {},
   "outputs": [
    {
     "data": {
      "text/plain": [
       "array(['BRAND: Wasted Atelier DESCRIPTION: Wasted ontstond vanuit een doorgedreven kennis van de modewereld en de wil om duurzaam te handelen. Toch werken we buiten de traditionele regels, timings en deadlines van de modesector. We vertrekken van onze ‘catch of the day’ en ontwerpen passende ontwerpen, los van seizoenen of regels. \\n\\nDe modewereld en bijhorende industrie is traditioneel erg vervuilend. Dat moet anders kunnen, zonder te moeten inboeten aan kwaliteit, inventiviteit en schoonheid! Met Wasted worden enkel slapende stoffen wakkergemaakt – bestaande stofresten dus – die in ons atelier in België omgetoverd worden tot wondermooie kledingstukken. And that, my dear, is how we wake up sleeping beauties! Het ecologische aspect is één ding, toch willen we bij Wasted ook de esthetiek niet uit het oog verliezen. Onze jurken, kimono’s, blouses en andere kledij zijn stuk voor stuk een streling voor het oog. Bovendien zitten ze ook als gegoten, zodat je steeds comfortabel op pad kan. Of dat nu voor een date, etentje met vriendinnen of familiefeestje is!\\n\\nWholesale:\\nE: hello@wastedatelier.be\\n\\nPhoto credit: \\nWasted Atelier'],\n",
       "      dtype=object)"
      ]
     },
     "execution_count": 376,
     "metadata": {},
     "output_type": "execute_result"
    }
   ],
   "source": [
    "df[df[\"Brand Name\"] == \"Wasted Atelier\"][\"Description\"].values"
   ]
  },
  {
   "cell_type": "code",
   "execution_count": 377,
   "metadata": {},
   "outputs": [
    {
     "name": "stderr",
     "output_type": "stream",
     "text": [
      "C:\\Users\\tedoc\\AppData\\Local\\Temp\\ipykernel_9500\\679048330.py:2: FutureWarning: \n",
      "\n",
      "Passing `palette` without assigning `hue` is deprecated and will be removed in v0.14.0. Assign the `x` variable to `hue` and set `legend=False` for the same effect.\n",
      "\n",
      "  sns.countplot(data=df, x=\"Sentiment\", palette=\"viridis\")\n"
     ]
    },
    {
     "data": {
      "image/png": "[encoded data removed]",
      "text/plain": [
       "<Figure size 640x480 with 1 Axes>"
      ]
     },
     "metadata": {},
     "output_type": "display_data"
    }
   ],
   "source": [
    "# Bar plot for sentiment counts\n",
    "sns.countplot(data=df, x=\"Sentiment\", palette=\"viridis\")\n",
    "plt.title(\"Sentiment Distribution\")\n",
    "plt.xlabel(\"Sentiment\")\n",
    "plt.ylabel(\"Count\")\n",
    "plt.show()"
   ]
  },
  {
   "cell_type": "code",
   "execution_count": 72,
   "metadata": {},
   "outputs": [],
   "source": [
    "import langid\n",
    "\n",
    "df[\"Language\"] = df[\"Description\"].apply(lambda text: langid.classify(text)[0])"
   ]
  },
  {
   "cell_type": "code",
   "execution_count": 78,
   "metadata": {},
   "outputs": [
    {
     "data": {
      "text/plain": [
       "Brand Name          220\n",
       "Products            217\n",
       "Description         220\n",
       "Website             216\n",
       "Sentiment_Scores    220\n",
       "Compound            220\n",
       "Sentiment           220\n",
       "Language            220\n",
       "dtype: int64"
      ]
     },
     "execution_count": 78,
     "metadata": {},
     "output_type": "execute_result"
    }
   ],
   "source": [
    "df[df.Language != \"en\"].count()"
   ]
  },
  {
   "cell_type": "code",
   "execution_count": 82,
   "metadata": {},
   "outputs": [
    {
     "data": {
      "image/png": "[encoded data removed]",
      "text/plain": [
       "<Figure size 640x480 with 1 Axes>"
      ]
     },
     "metadata": {},
     "output_type": "display_data"
    },
    {
     "data": {
      "text/plain": [
       "<Figure size 1000x800 with 0 Axes>"
      ]
     },
     "metadata": {},
     "output_type": "display_data"
    }
   ],
   "source": [
    "df[df.Language != \"en\"][\"Language\"].value_counts().plot(kind=\"bar\")\n",
    "plt.title(\"Non-English Languages\")\n",
    "plt.figure(figsize=(10, 8))\n",
    "plt.show()"
   ]
  },
  {
   "cell_type": "code",
   "execution_count": null,
   "metadata": {},
   "outputs": [
    {
     "data": {
      "text/html": [
       "<div>\n",
       "<style scoped>\n",
       "    .dataframe tbody tr th:only-of-type {\n",
       "        vertical-align: middle;\n",
       "    }\n",
       "\n",
       "    .dataframe tbody tr th {\n",
       "        vertical-align: top;\n",
       "    }\n",
       "\n",
       "    .dataframe thead th {\n",
       "        text-align: right;\n",
       "    }\n",
       "</style>\n",
       "<table border=\"1\" class=\"dataframe\">\n",
       "  <thead>\n",
       "    <tr style=\"text-align: right;\">\n",
       "      <th></th>\n",
       "      <th>Brand Name</th>\n",
       "      <th>Products</th>\n",
       "      <th>Description</th>\n",
       "      <th>Website</th>\n",
       "      <th>Sentiment_Scores</th>\n",
       "      <th>Compound</th>\n",
       "      <th>Sentiment</th>\n",
       "      <th>Language</th>\n",
       "    </tr>\n",
       "  </thead>\n",
       "  <tbody>\n",
       "    <tr>\n",
       "      <th>24</th>\n",
       "      <td>4th &amp; Reckless</td>\n",
       "      <td>[Footwear, Womenswear]</td>\n",
       "      <td>BRAND: 4th &amp; Reckless DESCRIPTION: 4th &amp; Reckl...</td>\n",
       "      <td>https://www.4thandreckless.com</td>\n",
       "      <td>{'neg': 0.166, 'neu': 0.755, 'pos': 0.079, 'co...</td>\n",
       "      <td>-0.6908</td>\n",
       "      <td>Negative</td>\n",
       "      <td>en</td>\n",
       "    </tr>\n",
       "    <tr>\n",
       "      <th>26</th>\n",
       "      <td>66°North</td>\n",
       "      <td>[Womenswear, Menswear]</td>\n",
       "      <td>BRAND: 66°North DESCRIPTION: 66°North was foun...</td>\n",
       "      <td>https://66north.com</td>\n",
       "      <td>{'neg': 0.095, 'neu': 0.856, 'pos': 0.049, 'co...</td>\n",
       "      <td>-0.6590</td>\n",
       "      <td>Negative</td>\n",
       "      <td>en</td>\n",
       "    </tr>\n",
       "    <tr>\n",
       "      <th>27</th>\n",
       "      <td>66°North</td>\n",
       "      <td>[Womenswear, Menswear]</td>\n",
       "      <td>BRAND: 66°North DESCRIPTION: 66°North was foun...</td>\n",
       "      <td>https://66north.com</td>\n",
       "      <td>{'neg': 0.095, 'neu': 0.856, 'pos': 0.049, 'co...</td>\n",
       "      <td>-0.6590</td>\n",
       "      <td>Negative</td>\n",
       "      <td>en</td>\n",
       "    </tr>\n",
       "    <tr>\n",
       "      <th>103</th>\n",
       "      <td>ALEXUS GE.</td>\n",
       "      <td>[Womenswear]</td>\n",
       "      <td>BRAND: ALEXUS GE. DESCRIPTION: THIS IS GE IS A...</td>\n",
       "      <td>https://alexusge.com</td>\n",
       "      <td>{'neg': 0.121, 'neu': 0.789, 'pos': 0.089, 'co...</td>\n",
       "      <td>-0.2342</td>\n",
       "      <td>Negative</td>\n",
       "      <td>en</td>\n",
       "    </tr>\n",
       "    <tr>\n",
       "      <th>776</th>\n",
       "      <td>Colorful Standard</td>\n",
       "      <td>[Womenswear, Menswear]</td>\n",
       "      <td>BRAND: Colorful Standard DESCRIPTION: Colorful...</td>\n",
       "      <td>https://www.colorfulstandard.com</td>\n",
       "      <td>{'neg': 0.067, 'neu': 0.869, 'pos': 0.064, 'co...</td>\n",
       "      <td>-0.0896</td>\n",
       "      <td>Negative</td>\n",
       "      <td>en</td>\n",
       "    </tr>\n",
       "    <tr>\n",
       "      <th>843</th>\n",
       "      <td>Criminal Damage</td>\n",
       "      <td>[Womenswear, Menswear, Kidswear, Accessories]</td>\n",
       "      <td>BRAND: Criminal Damage DESCRIPTION: Founded in...</td>\n",
       "      <td>https://www.criminaldamage.co.uk</td>\n",
       "      <td>{'neg': 0.175, 'neu': 0.737, 'pos': 0.088, 'co...</td>\n",
       "      <td>-0.9350</td>\n",
       "      <td>Negative</td>\n",
       "      <td>en</td>\n",
       "    </tr>\n",
       "    <tr>\n",
       "      <th>853</th>\n",
       "      <td>Cup of Joe Denim</td>\n",
       "      <td>[Womenswear, Menswear]</td>\n",
       "      <td>BRAND: Cup of Joe Denim DESCRIPTION: Why would...</td>\n",
       "      <td>https://www.cojdenim.com</td>\n",
       "      <td>{'neg': 0.06, 'neu': 0.894, 'pos': 0.047, 'com...</td>\n",
       "      <td>-0.4435</td>\n",
       "      <td>Negative</td>\n",
       "      <td>en</td>\n",
       "    </tr>\n",
       "    <tr>\n",
       "      <th>1250</th>\n",
       "      <td>Franceschetti</td>\n",
       "      <td>[Footwear]</td>\n",
       "      <td>BRAND: Franceschetti DESCRIPTION: In the early...</td>\n",
       "      <td>https://www.franceschetti.it</td>\n",
       "      <td>{'neg': 0.045, 'neu': 0.919, 'pos': 0.036, 'co...</td>\n",
       "      <td>-0.4939</td>\n",
       "      <td>Negative</td>\n",
       "      <td>en</td>\n",
       "    </tr>\n",
       "    <tr>\n",
       "      <th>1356</th>\n",
       "      <td>G.I.G.A. DX</td>\n",
       "      <td>[Womenswear, Menswear, Sportswear, Kidswear]</td>\n",
       "      <td>BRAND: G.I.G.A. DX DESCRIPTION: GIGA DX is par...</td>\n",
       "      <td>https://www.killtec.de</td>\n",
       "      <td>{'neg': 0.321, 'neu': 0.593, 'pos': 0.086, 'co...</td>\n",
       "      <td>-0.9504</td>\n",
       "      <td>Negative</td>\n",
       "      <td>en</td>\n",
       "    </tr>\n",
       "    <tr>\n",
       "      <th>1616</th>\n",
       "      <td>INASKA</td>\n",
       "      <td>[Womenswear, Swimwear]</td>\n",
       "      <td>BRAND: INASKA DESCRIPTION: We are a team of th...</td>\n",
       "      <td>https://www.inaska-swimwear.com</td>\n",
       "      <td>{'neg': 0.126, 'neu': 0.812, 'pos': 0.061, 'co...</td>\n",
       "      <td>-0.7480</td>\n",
       "      <td>Negative</td>\n",
       "      <td>en</td>\n",
       "    </tr>\n",
       "    <tr>\n",
       "      <th>1669</th>\n",
       "      <td>Jaded London</td>\n",
       "      <td>[Womenswear, Menswear, Bodywear, Sportswear, S...</td>\n",
       "      <td>BRAND: Jaded London DESCRIPTION: Wholesale\\nE:...</td>\n",
       "      <td>https://www.jadedldn.com</td>\n",
       "      <td>{'neg': 0.329, 'neu': 0.506, 'pos': 0.165, 'co...</td>\n",
       "      <td>-0.3818</td>\n",
       "      <td>Negative</td>\n",
       "      <td>en</td>\n",
       "    </tr>\n",
       "    <tr>\n",
       "      <th>1705</th>\n",
       "      <td>JETLAG</td>\n",
       "      <td>[Womenswear, Menswear]</td>\n",
       "      <td>BRAND: JETLAG DESCRIPTION: since 1992. We stan...</td>\n",
       "      <td>https://www.shopjetlag.com</td>\n",
       "      <td>{'neg': 0.067, 'neu': 0.877, 'pos': 0.056, 'co...</td>\n",
       "      <td>-0.1363</td>\n",
       "      <td>Negative</td>\n",
       "      <td>en</td>\n",
       "    </tr>\n",
       "    <tr>\n",
       "      <th>2114</th>\n",
       "      <td>Lousy Livin</td>\n",
       "      <td>[Menswear, Bodywear, Accessories]</td>\n",
       "      <td>BRAND: Lousy Livin DESCRIPTION: Lousy Livin ha...</td>\n",
       "      <td>https://www.lousylivin.com</td>\n",
       "      <td>{'neg': 0.17, 'neu': 0.699, 'pos': 0.131, 'com...</td>\n",
       "      <td>-0.6987</td>\n",
       "      <td>Negative</td>\n",
       "      <td>en</td>\n",
       "    </tr>\n",
       "    <tr>\n",
       "      <th>2186</th>\n",
       "      <td>Makia</td>\n",
       "      <td>[Womenswear, Menswear, Kidswear, Accessories]</td>\n",
       "      <td>BRAND: Makia DESCRIPTION: Through the rough se...</td>\n",
       "      <td>https://makiaclothing.com</td>\n",
       "      <td>{'neg': 0.1, 'neu': 0.813, 'pos': 0.087, 'comp...</td>\n",
       "      <td>-0.3182</td>\n",
       "      <td>Negative</td>\n",
       "      <td>en</td>\n",
       "    </tr>\n",
       "    <tr>\n",
       "      <th>2262</th>\n",
       "      <td>Mazine</td>\n",
       "      <td>[Womenswear, Menswear, Accessories]</td>\n",
       "      <td>BRAND: Mazine DESCRIPTION: MAZINE is more than...</td>\n",
       "      <td>https://mazine.de</td>\n",
       "      <td>{'neg': 0.087, 'neu': 0.854, 'pos': 0.058, 'co...</td>\n",
       "      <td>-0.3843</td>\n",
       "      <td>Negative</td>\n",
       "      <td>en</td>\n",
       "    </tr>\n",
       "    <tr>\n",
       "      <th>2445</th>\n",
       "      <td>Nasty Gal</td>\n",
       "      <td>[Womenswear, Footwear, Accessories]</td>\n",
       "      <td>BRAND: Nasty Gal DESCRIPTION: We exist for the...</td>\n",
       "      <td>http://www.nastygal.com</td>\n",
       "      <td>{'neg': 0.16, 'neu': 0.709, 'pos': 0.131, 'com...</td>\n",
       "      <td>-0.6705</td>\n",
       "      <td>Negative</td>\n",
       "      <td>en</td>\n",
       "    </tr>\n",
       "    <tr>\n",
       "      <th>2525</th>\n",
       "      <td>No Name</td>\n",
       "      <td>[Footwear]</td>\n",
       "      <td>BRAND: No Name DESCRIPTION: NO NAME HISTORY\\n\\...</td>\n",
       "      <td>https://www.no-name.fr</td>\n",
       "      <td>{'neg': 0.184, 'neu': 0.742, 'pos': 0.074, 'co...</td>\n",
       "      <td>-0.9581</td>\n",
       "      <td>Negative</td>\n",
       "      <td>en</td>\n",
       "    </tr>\n",
       "    <tr>\n",
       "      <th>2560</th>\n",
       "      <td>Nudnik</td>\n",
       "      <td>[Kidswear, Sustainable]</td>\n",
       "      <td>BRAND: Nudnik DESCRIPTION: Textile production ...</td>\n",
       "      <td>https://nudniklife.com</td>\n",
       "      <td>{'neg': 0.095, 'neu': 0.867, 'pos': 0.038, 'co...</td>\n",
       "      <td>-0.8172</td>\n",
       "      <td>Negative</td>\n",
       "      <td>en</td>\n",
       "    </tr>\n",
       "    <tr>\n",
       "      <th>2573</th>\n",
       "      <td>OBEY</td>\n",
       "      <td>[Womenswear, Menswear, Bodywear, Eyewear, Bags...</td>\n",
       "      <td>BRAND: OBEY DESCRIPTION: The OBEY sticker camp...</td>\n",
       "      <td>https://obeyclothing.eu</td>\n",
       "      <td>{'neg': 0.148, 'neu': 0.772, 'pos': 0.08, 'com...</td>\n",
       "      <td>-0.9625</td>\n",
       "      <td>Negative</td>\n",
       "      <td>en</td>\n",
       "    </tr>\n",
       "    <tr>\n",
       "      <th>2610</th>\n",
       "      <td>OOfos</td>\n",
       "      <td>[Footwear, Menswear, Womenswear]</td>\n",
       "      <td>BRAND: OOfos DESCRIPTION: WORK YOUR BODY LESS,...</td>\n",
       "      <td>https://www.oofos.com</td>\n",
       "      <td>{'neg': 0.162, 'neu': 0.757, 'pos': 0.081, 'co...</td>\n",
       "      <td>-0.6199</td>\n",
       "      <td>Negative</td>\n",
       "      <td>en</td>\n",
       "    </tr>\n",
       "    <tr>\n",
       "      <th>2748</th>\n",
       "      <td>PLUS EIGHTEEN</td>\n",
       "      <td>[Menswear]</td>\n",
       "      <td>BRAND: PLUS EIGHTEEN DESCRIPTION: FOUNDED IN 2...</td>\n",
       "      <td>https://pluseighteen.de/</td>\n",
       "      <td>{'neg': 0.078, 'neu': 0.853, 'pos': 0.069, 'co...</td>\n",
       "      <td>-0.0857</td>\n",
       "      <td>Negative</td>\n",
       "      <td>en</td>\n",
       "    </tr>\n",
       "    <tr>\n",
       "      <th>2847</th>\n",
       "      <td>Raging Bull</td>\n",
       "      <td>[Womenswear, Menswear, Kidswear]</td>\n",
       "      <td>BRAND: Raging Bull DESCRIPTION: Rugby Heritage...</td>\n",
       "      <td>https://www.ragingbull.co.uk</td>\n",
       "      <td>{'neg': 0.239, 'neu': 0.657, 'pos': 0.103, 'co...</td>\n",
       "      <td>-0.7783</td>\n",
       "      <td>Negative</td>\n",
       "      <td>en</td>\n",
       "    </tr>\n",
       "    <tr>\n",
       "      <th>2940</th>\n",
       "      <td>CAVALLI</td>\n",
       "      <td>[Womenswear, Menswear, Kidswear, Footwear, Bag...</td>\n",
       "      <td>BRAND: CAVALLI DESCRIPTION: Founded in 1970, R...</td>\n",
       "      <td>https://robertocavalli.com</td>\n",
       "      <td>{'neg': 0.067, 'neu': 0.882, 'pos': 0.051, 'co...</td>\n",
       "      <td>-0.4215</td>\n",
       "      <td>Negative</td>\n",
       "      <td>en</td>\n",
       "    </tr>\n",
       "    <tr>\n",
       "      <th>3260</th>\n",
       "      <td>STUTTERHEIM</td>\n",
       "      <td>[Womenswear, Menswear, Footwear, Accessories]</td>\n",
       "      <td>BRAND: STUTTERHEIM DESCRIPTION: Swedish melanc...</td>\n",
       "      <td>https://stutterheim.com</td>\n",
       "      <td>{'neg': 0.166, 'neu': 0.686, 'pos': 0.149, 'co...</td>\n",
       "      <td>-0.0772</td>\n",
       "      <td>Negative</td>\n",
       "      <td>en</td>\n",
       "    </tr>\n",
       "    <tr>\n",
       "      <th>3475</th>\n",
       "      <td>UNFAIR ATHLETICS</td>\n",
       "      <td>[Menswear, Accessories]</td>\n",
       "      <td>BRAND: UNFAIR ATHLETICS DESCRIPTION: UNFAIR AT...</td>\n",
       "      <td>https://www.unfairathletics.com</td>\n",
       "      <td>{'neg': 0.169, 'neu': 0.698, 'pos': 0.133, 'co...</td>\n",
       "      <td>-0.7965</td>\n",
       "      <td>Negative</td>\n",
       "      <td>en</td>\n",
       "    </tr>\n",
       "    <tr>\n",
       "      <th>3529</th>\n",
       "      <td>Versace</td>\n",
       "      <td>[Womenswear, Menswear, Kidswear, Bodywear, Swi...</td>\n",
       "      <td>BRAND: Versace DESCRIPTION: Versace is the Ita...</td>\n",
       "      <td>http://www.versace.com</td>\n",
       "      <td>{'neg': 0.091, 'neu': 0.81, 'pos': 0.099, 'com...</td>\n",
       "      <td>-0.3400</td>\n",
       "      <td>Negative</td>\n",
       "      <td>en</td>\n",
       "    </tr>\n",
       "    <tr>\n",
       "      <th>3762</th>\n",
       "      <td>RAY BAN</td>\n",
       "      <td>NaN</td>\n",
       "      <td>BRAND: RAY BAN DESCRIPTION: Ray-Ban is the lea...</td>\n",
       "      <td>http://www.ray-ban.com</td>\n",
       "      <td>{'neg': 0.106, 'neu': 0.825, 'pos': 0.07, 'com...</td>\n",
       "      <td>-0.4995</td>\n",
       "      <td>Negative</td>\n",
       "      <td>en</td>\n",
       "    </tr>\n",
       "    <tr>\n",
       "      <th>3772</th>\n",
       "      <td>TOD'S</td>\n",
       "      <td>[Womenswear, Menswear]</td>\n",
       "      <td>BRAND: TOD'S DESCRIPTION: TOD'S is an Italian ...</td>\n",
       "      <td>http://www.todsgroup.com</td>\n",
       "      <td>{'neg': 0.029, 'neu': 0.941, 'pos': 0.03, 'com...</td>\n",
       "      <td>-0.2023</td>\n",
       "      <td>Negative</td>\n",
       "      <td>en</td>\n",
       "    </tr>\n",
       "  </tbody>\n",
       "</table>\n",
       "</div>"
      ],
      "text/plain": [
       "             Brand Name                                           Products  \\\n",
       "24       4th & Reckless                             [Footwear, Womenswear]   \n",
       "26             66°North                             [Womenswear, Menswear]   \n",
       "27             66°North                             [Womenswear, Menswear]   \n",
       "103          ALEXUS GE.                                       [Womenswear]   \n",
       "776   Colorful Standard                             [Womenswear, Menswear]   \n",
       "843     Criminal Damage      [Womenswear, Menswear, Kidswear, Accessories]   \n",
       "853    Cup of Joe Denim                             [Womenswear, Menswear]   \n",
       "1250      Franceschetti                                         [Footwear]   \n",
       "1356        G.I.G.A. DX       [Womenswear, Menswear, Sportswear, Kidswear]   \n",
       "1616             INASKA                             [Womenswear, Swimwear]   \n",
       "1669       Jaded London  [Womenswear, Menswear, Bodywear, Sportswear, S...   \n",
       "1705             JETLAG                             [Womenswear, Menswear]   \n",
       "2114        Lousy Livin                  [Menswear, Bodywear, Accessories]   \n",
       "2186              Makia      [Womenswear, Menswear, Kidswear, Accessories]   \n",
       "2262             Mazine                [Womenswear, Menswear, Accessories]   \n",
       "2445          Nasty Gal                [Womenswear, Footwear, Accessories]   \n",
       "2525            No Name                                         [Footwear]   \n",
       "2560             Nudnik                            [Kidswear, Sustainable]   \n",
       "2573               OBEY  [Womenswear, Menswear, Bodywear, Eyewear, Bags...   \n",
       "2610              OOfos                   [Footwear, Menswear, Womenswear]   \n",
       "2748      PLUS EIGHTEEN                                         [Menswear]   \n",
       "2847        Raging Bull                   [Womenswear, Menswear, Kidswear]   \n",
       "2940            CAVALLI  [Womenswear, Menswear, Kidswear, Footwear, Bag...   \n",
       "3260        STUTTERHEIM      [Womenswear, Menswear, Footwear, Accessories]   \n",
       "3475   UNFAIR ATHLETICS                            [Menswear, Accessories]   \n",
       "3529            Versace  [Womenswear, Menswear, Kidswear, Bodywear, Swi...   \n",
       "3762            RAY BAN                                                NaN   \n",
       "3772              TOD'S                             [Womenswear, Menswear]   \n",
       "\n",
       "                                            Description  \\\n",
       "24    BRAND: 4th & Reckless DESCRIPTION: 4th & Reckl...   \n",
       "26    BRAND: 66°North DESCRIPTION: 66°North was foun...   \n",
       "27    BRAND: 66°North DESCRIPTION: 66°North was foun...   \n",
       "103   BRAND: ALEXUS GE. DESCRIPTION: THIS IS GE IS A...   \n",
       "776   BRAND: Colorful Standard DESCRIPTION: Colorful...   \n",
       "843   BRAND: Criminal Damage DESCRIPTION: Founded in...   \n",
       "853   BRAND: Cup of Joe Denim DESCRIPTION: Why would...   \n",
       "1250  BRAND: Franceschetti DESCRIPTION: In the early...   \n",
       "1356  BRAND: G.I.G.A. DX DESCRIPTION: GIGA DX is par...   \n",
       "1616  BRAND: INASKA DESCRIPTION: We are a team of th...   \n",
       "1669  BRAND: Jaded London DESCRIPTION: Wholesale\\nE:...   \n",
       "1705  BRAND: JETLAG DESCRIPTION: since 1992. We stan...   \n",
       "2114  BRAND: Lousy Livin DESCRIPTION: Lousy Livin ha...   \n",
       "2186  BRAND: Makia DESCRIPTION: Through the rough se...   \n",
       "2262  BRAND: Mazine DESCRIPTION: MAZINE is more than...   \n",
       "2445  BRAND: Nasty Gal DESCRIPTION: We exist for the...   \n",
       "2525  BRAND: No Name DESCRIPTION: NO NAME HISTORY\\n\\...   \n",
       "2560  BRAND: Nudnik DESCRIPTION: Textile production ...   \n",
       "2573  BRAND: OBEY DESCRIPTION: The OBEY sticker camp...   \n",
       "2610  BRAND: OOfos DESCRIPTION: WORK YOUR BODY LESS,...   \n",
       "2748  BRAND: PLUS EIGHTEEN DESCRIPTION: FOUNDED IN 2...   \n",
       "2847  BRAND: Raging Bull DESCRIPTION: Rugby Heritage...   \n",
       "2940  BRAND: CAVALLI DESCRIPTION: Founded in 1970, R...   \n",
       "3260  BRAND: STUTTERHEIM DESCRIPTION: Swedish melanc...   \n",
       "3475  BRAND: UNFAIR ATHLETICS DESCRIPTION: UNFAIR AT...   \n",
       "3529  BRAND: Versace DESCRIPTION: Versace is the Ita...   \n",
       "3762  BRAND: RAY BAN DESCRIPTION: Ray-Ban is the lea...   \n",
       "3772  BRAND: TOD'S DESCRIPTION: TOD'S is an Italian ...   \n",
       "\n",
       "                               Website  \\\n",
       "24      https://www.4thandreckless.com   \n",
       "26                 https://66north.com   \n",
       "27                 https://66north.com   \n",
       "103               https://alexusge.com   \n",
       "776   https://www.colorfulstandard.com   \n",
       "843   https://www.criminaldamage.co.uk   \n",
       "853           https://www.cojdenim.com   \n",
       "1250      https://www.franceschetti.it   \n",
       "1356            https://www.killtec.de   \n",
       "1616   https://www.inaska-swimwear.com   \n",
       "1669          https://www.jadedldn.com   \n",
       "1705        https://www.shopjetlag.com   \n",
       "2114        https://www.lousylivin.com   \n",
       "2186         https://makiaclothing.com   \n",
       "2262                 https://mazine.de   \n",
       "2445           http://www.nastygal.com   \n",
       "2525            https://www.no-name.fr   \n",
       "2560            https://nudniklife.com   \n",
       "2573           https://obeyclothing.eu   \n",
       "2610             https://www.oofos.com   \n",
       "2748          https://pluseighteen.de/   \n",
       "2847      https://www.ragingbull.co.uk   \n",
       "2940        https://robertocavalli.com   \n",
       "3260           https://stutterheim.com   \n",
       "3475   https://www.unfairathletics.com   \n",
       "3529            http://www.versace.com   \n",
       "3762            http://www.ray-ban.com   \n",
       "3772          http://www.todsgroup.com   \n",
       "\n",
       "                                       Sentiment_Scores  Compound Sentiment  \\\n",
       "24    {'neg': 0.166, 'neu': 0.755, 'pos': 0.079, 'co...   -0.6908  Negative   \n",
       "26    {'neg': 0.095, 'neu': 0.856, 'pos': 0.049, 'co...   -0.6590  Negative   \n",
       "27    {'neg': 0.095, 'neu': 0.856, 'pos': 0.049, 'co...   -0.6590  Negative   \n",
       "103   {'neg': 0.121, 'neu': 0.789, 'pos': 0.089, 'co...   -0.2342  Negative   \n",
       "776   {'neg': 0.067, 'neu': 0.869, 'pos': 0.064, 'co...   -0.0896  Negative   \n",
       "843   {'neg': 0.175, 'neu': 0.737, 'pos': 0.088, 'co...   -0.9350  Negative   \n",
       "853   {'neg': 0.06, 'neu': 0.894, 'pos': 0.047, 'com...   -0.4435  Negative   \n",
       "1250  {'neg': 0.045, 'neu': 0.919, 'pos': 0.036, 'co...   -0.4939  Negative   \n",
       "1356  {'neg': 0.321, 'neu': 0.593, 'pos': 0.086, 'co...   -0.9504  Negative   \n",
       "1616  {'neg': 0.126, 'neu': 0.812, 'pos': 0.061, 'co...   -0.7480  Negative   \n",
       "1669  {'neg': 0.329, 'neu': 0.506, 'pos': 0.165, 'co...   -0.3818  Negative   \n",
       "1705  {'neg': 0.067, 'neu': 0.877, 'pos': 0.056, 'co...   -0.1363  Negative   \n",
       "2114  {'neg': 0.17, 'neu': 0.699, 'pos': 0.131, 'com...   -0.6987  Negative   \n",
       "2186  {'neg': 0.1, 'neu': 0.813, 'pos': 0.087, 'comp...   -0.3182  Negative   \n",
       "2262  {'neg': 0.087, 'neu': 0.854, 'pos': 0.058, 'co...   -0.3843  Negative   \n",
       "2445  {'neg': 0.16, 'neu': 0.709, 'pos': 0.131, 'com...   -0.6705  Negative   \n",
       "2525  {'neg': 0.184, 'neu': 0.742, 'pos': 0.074, 'co...   -0.9581  Negative   \n",
       "2560  {'neg': 0.095, 'neu': 0.867, 'pos': 0.038, 'co...   -0.8172  Negative   \n",
       "2573  {'neg': 0.148, 'neu': 0.772, 'pos': 0.08, 'com...   -0.9625  Negative   \n",
       "2610  {'neg': 0.162, 'neu': 0.757, 'pos': 0.081, 'co...   -0.6199  Negative   \n",
       "2748  {'neg': 0.078, 'neu': 0.853, 'pos': 0.069, 'co...   -0.0857  Negative   \n",
       "2847  {'neg': 0.239, 'neu': 0.657, 'pos': 0.103, 'co...   -0.7783  Negative   \n",
       "2940  {'neg': 0.067, 'neu': 0.882, 'pos': 0.051, 'co...   -0.4215  Negative   \n",
       "3260  {'neg': 0.166, 'neu': 0.686, 'pos': 0.149, 'co...   -0.0772  Negative   \n",
       "3475  {'neg': 0.169, 'neu': 0.698, 'pos': 0.133, 'co...   -0.7965  Negative   \n",
       "3529  {'neg': 0.091, 'neu': 0.81, 'pos': 0.099, 'com...   -0.3400  Negative   \n",
       "3762  {'neg': 0.106, 'neu': 0.825, 'pos': 0.07, 'com...   -0.4995  Negative   \n",
       "3772  {'neg': 0.029, 'neu': 0.941, 'pos': 0.03, 'com...   -0.2023  Negative   \n",
       "\n",
       "     Language  \n",
       "24         en  \n",
       "26         en  \n",
       "27         en  \n",
       "103        en  \n",
       "776        en  \n",
       "843        en  \n",
       "853        en  \n",
       "1250       en  \n",
       "1356       en  \n",
       "1616       en  \n",
       "1669       en  \n",
       "1705       en  \n",
       "2114       en  \n",
       "2186       en  \n",
       "2262       en  \n",
       "2445       en  \n",
       "2525       en  \n",
       "2560       en  \n",
       "2573       en  \n",
       "2610       en  \n",
       "2748       en  \n",
       "2847       en  \n",
       "2940       en  \n",
       "3260       en  \n",
       "3475       en  \n",
       "3529       en  \n",
       "3762       en  \n",
       "3772       en  "
      ]
     },
     "execution_count": 396,
     "metadata": {},
     "output_type": "execute_result"
    }
   ],
   "source": [
    "df[(df.Language == \"en\") & (df.Sentiment == \"Negative\")]"
   ]
  },
  {
   "cell_type": "code",
   "execution_count": 399,
   "metadata": {},
   "outputs": [
    {
     "data": {
      "text/plain": [
       "array(['BRAND: OBEY DESCRIPTION: The OBEY sticker campaign can be explained as an experiment in Phenomenology. Heidegger describes Phenomenology as “the process of letting things manifest themselves.” Phenomenology attempts to enable people to see clearly something that is right before their eyes but obscured; things that are so taken for granted that they are muted by abstract observation. Because people are not used to seeing advertisements or propaganda for which the product or motive is not obvious, frequent and novel encounters with the sticker provoke thought and possible frustration, nevertheless revitalizing the viewer’s perception and attention to detail. The sticker has no meaning but exists only to cause people to react, to contemplate and search for meaning in the sticker. Because OBEY has no actual meaning, the various reactions and interpretations of those who view it reflect their personality and the nature of their sensibilities. Many people who are familiar with the sticker find the image itself amusing, recognizing it as nonsensical, and are able to derive straightforward visual pleasure without burdening themselves with an explanation. The PARANOID OR CONSERVATIVE VIEWER however may be confused by the sticker’s persistent presence and condemn it as an underground cult with subversive intentions. Many stickers have been peeled down by people who were annoyed by them, considering them an eye sore and an act of petty vandalism, which is ironic considering the number of commercial graphic images everyone in American society is assaulted with daily.\\n\\nWholesale\\nE: international@obeyclothing.com\\n\\nPhoto credit: Obey Clothing'],\n",
       "      dtype=object)"
      ]
     },
     "execution_count": 399,
     "metadata": {},
     "output_type": "execute_result"
    }
   ],
   "source": [
    "df[df[\"Brand Name\"] == \"OBEY\"]"
   ]
  },
  {
   "cell_type": "code",
   "execution_count": 87,
   "metadata": {},
   "outputs": [],
   "source": [
    "def_english = df[df.Language == \"en\"]\n"
   ]
  },
  {
   "cell_type": "markdown",
   "metadata": {},
   "source": [
    "## Export Datasets"
   ]
  },
  {
   "cell_type": "code",
   "execution_count": 105,
   "metadata": {},
   "outputs": [],
   "source": [
    "def_english = def_english.drop_duplicates(subset=['Brand Name'])\n",
    "df = df.drop_duplicates(subset=['Brand Name'])"
   ]
  },
  {
   "cell_type": "code",
   "execution_count": 109,
   "metadata": {},
   "outputs": [],
   "source": [
    "def_english.to_csv(\"data/EnglishScrapedData.csv\", index=False)"
   ]
  },
  {
   "cell_type": "code",
   "execution_count": 110,
   "metadata": {},
   "outputs": [],
   "source": [
    "df.to_csv(\"data/completeData.csv\", index=False)"
   ]
  },
  {
   "cell_type": "code",
   "execution_count": null,
   "metadata": {},
   "outputs": [],
   "source": []
  }
 ],
 "metadata": {
  "kernelspec": {
   "display_name": "venv",
   "language": "python",
   "name": "python3"
  },
  "language_info": {
   "codemirror_mode": {
    "name": "ipython",
    "version": 3
   },
   "file_extension": ".py",
   "mimetype": "text/x-python",
   "name": "python",
   "nbconvert_exporter": "python",
   "pygments_lexer": "ipython3",
   "version": "3.10.8"
  }
 },
 "nbformat": 4,
 "nbformat_minor": 2
}
